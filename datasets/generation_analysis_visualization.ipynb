{
 "cells": [
  {
   "cell_type": "code",
   "execution_count": 1,
   "metadata": {},
   "outputs": [],
   "source": []
  },
  {
   "cell_type": "code",
   "execution_count": 7,
   "metadata": {},
   "outputs": [],
   "source": [
    "import plotly.graph_objects as go\n",
    "import plotly.io as pio\n",
    "import numpy as np\n",
    "def get_mean_and_error(scores):\n",
    "    multiplier_scores = []\n",
    "    for rand_trial_scores in scores:\n",
    "        if len(multiplier_scores) == 0:\n",
    "            for idx, score in enumerate(rand_trial_scores):\n",
    "                multiplier_scores.append([score])\n",
    "        else:\n",
    "            for idx, score in enumerate(rand_trial_scores):\n",
    "                multiplier_scores[idx].append(score)\n",
    "    multiplier_scores_mean = [np.mean(scores) for scores in multiplier_scores]\n",
    "    multiplier_scores_err = [1.96*np.std(scores, ddof=1)/np.sqrt(len(scores)) for scores in multiplier_scores]\n",
    "    return multiplier_scores_mean, multiplier_scores_err\n",
    "\n",
    "\n",
    "def visualize_scores(all_scores, labels, metric_name, out_path):\n",
    "    fig = go.Figure()\n",
    "    for scores, label in zip(all_scores, labels):\n",
    "        \n",
    "        if not isinstance(scores[0], list):\n",
    "            multiplier = [i for i in range(len(scores))]\n",
    "            fig.add_trace(go.Scatter(\n",
    "                x=multiplier, y=scores,\n",
    "                mode=\"lines+markers\",\n",
    "                name=label\n",
    "            ))\n",
    "        else:\n",
    "            scores_mean, scores_err = get_mean_and_error(scores)\n",
    "            multiplier = [i for i in range(len(scores_mean))]\n",
    "            fig.add_trace(go.Scatter(\n",
    "                x=multiplier, y=scores_mean,\n",
    "                mode=\"lines+markers\",\n",
    "                error_y=dict(\n",
    "                    type=\"data\",\n",
    "                    array=scores_err,  # Error magnitude\n",
    "                    visible=True\n",
    "                ),\n",
    "                name=label\n",
    "            ))\n",
    "\n",
    "    fig.update_layout(xaxis_title=\"Intervention Multiplier Constant\", yaxis_title=f\"{metric_name}\")\n",
    "    fig.show()\n",
    "        \n",
    "    pio.full_figure_for_development(fig, warn=False)\n",
    "\n",
    "    fig.write_image(f'{out_path}.pdf', engine=\"kaleido\")\n",
    "    fig.write_image(f'{out_path}.png', engine=\"kaleido\")"
   ]
  },
  {
   "cell_type": "code",
   "execution_count": 8,
   "metadata": {},
   "outputs": [
    {
     "data": {
      "application/vnd.plotly.v1+json": {
       "config": {
        "plotlyServerURL": "https://plot.ly"
       },
       "data": [
        {
         "mode": "lines+markers",
         "name": "llama-3.2-3b-instruct_sw-points",
         "type": "scatter",
         "x": [
          0,
          1,
          2,
          3,
          4,
          5
         ],
         "y": [
          0.266,
          0.255,
          0.045,
          0.046,
          0.045,
          0.046
         ]
        },
        {
         "error_y": {
          "array": [
           0.028271598752104558,
           0,
           0.008874277435374675,
           0.016704904190087418,
           0.029995044924120383,
           0.020030394504352633
          ],
          "type": "data",
          "visible": true
         },
         "mode": "lines+markers",
         "name": "llama-3.2-3b-instruct_random",
         "type": "scatter",
         "x": [
          0,
          1,
          2,
          3,
          4,
          5
         ],
         "y": [
          0.2394,
          0.255,
          0.253,
          0.24219999999999997,
          0.22400000000000003,
          0.23079999999999998
         ]
        },
        {
         "mode": "lines+markers",
         "name": "qwen-7b-instruct_sw-points",
         "type": "scatter",
         "x": [
          0,
          1,
          2,
          3,
          4,
          5
         ],
         "y": [
          0.011,
          0.064,
          0.064,
          0.004,
          0.042,
          0.042
         ]
        },
        {
         "error_y": {
          "array": [
           0.023237368525717363,
           0,
           0.0018176292251171596,
           0.0020179435076334517,
           0.002867232812312248,
           0.004312000000000002
          ],
          "type": "data",
          "visible": true
         },
         "mode": "lines+markers",
         "name": "qwen-7b-instruct_random",
         "type": "scatter",
         "x": [
          0,
          1,
          2,
          3,
          4,
          5
         ],
         "y": [
          0.0504,
          0.064,
          0.0636,
          0.0606,
          0.0628,
          0.0622
         ]
        }
       ],
       "layout": {
        "template": {
         "data": {
          "bar": [
           {
            "error_x": {
             "color": "#2a3f5f"
            },
            "error_y": {
             "color": "#2a3f5f"
            },
            "marker": {
             "line": {
              "color": "#E5ECF6",
              "width": 0.5
             },
             "pattern": {
              "fillmode": "overlay",
              "size": 10,
              "solidity": 0.2
             }
            },
            "type": "bar"
           }
          ],
          "barpolar": [
           {
            "marker": {
             "line": {
              "color": "#E5ECF6",
              "width": 0.5
             },
             "pattern": {
              "fillmode": "overlay",
              "size": 10,
              "solidity": 0.2
             }
            },
            "type": "barpolar"
           }
          ],
          "carpet": [
           {
            "aaxis": {
             "endlinecolor": "#2a3f5f",
             "gridcolor": "white",
             "linecolor": "white",
             "minorgridcolor": "white",
             "startlinecolor": "#2a3f5f"
            },
            "baxis": {
             "endlinecolor": "#2a3f5f",
             "gridcolor": "white",
             "linecolor": "white",
             "minorgridcolor": "white",
             "startlinecolor": "#2a3f5f"
            },
            "type": "carpet"
           }
          ],
          "choropleth": [
           {
            "colorbar": {
             "outlinewidth": 0,
             "ticks": ""
            },
            "type": "choropleth"
           }
          ],
          "contour": [
           {
            "colorbar": {
             "outlinewidth": 0,
             "ticks": ""
            },
            "colorscale": [
             [
              0,
              "#0d0887"
             ],
             [
              0.1111111111111111,
              "#46039f"
             ],
             [
              0.2222222222222222,
              "#7201a8"
             ],
             [
              0.3333333333333333,
              "#9c179e"
             ],
             [
              0.4444444444444444,
              "#bd3786"
             ],
             [
              0.5555555555555556,
              "#d8576b"
             ],
             [
              0.6666666666666666,
              "#ed7953"
             ],
             [
              0.7777777777777778,
              "#fb9f3a"
             ],
             [
              0.8888888888888888,
              "#fdca26"
             ],
             [
              1,
              "#f0f921"
             ]
            ],
            "type": "contour"
           }
          ],
          "contourcarpet": [
           {
            "colorbar": {
             "outlinewidth": 0,
             "ticks": ""
            },
            "type": "contourcarpet"
           }
          ],
          "heatmap": [
           {
            "colorbar": {
             "outlinewidth": 0,
             "ticks": ""
            },
            "colorscale": [
             [
              0,
              "#0d0887"
             ],
             [
              0.1111111111111111,
              "#46039f"
             ],
             [
              0.2222222222222222,
              "#7201a8"
             ],
             [
              0.3333333333333333,
              "#9c179e"
             ],
             [
              0.4444444444444444,
              "#bd3786"
             ],
             [
              0.5555555555555556,
              "#d8576b"
             ],
             [
              0.6666666666666666,
              "#ed7953"
             ],
             [
              0.7777777777777778,
              "#fb9f3a"
             ],
             [
              0.8888888888888888,
              "#fdca26"
             ],
             [
              1,
              "#f0f921"
             ]
            ],
            "type": "heatmap"
           }
          ],
          "heatmapgl": [
           {
            "colorbar": {
             "outlinewidth": 0,
             "ticks": ""
            },
            "colorscale": [
             [
              0,
              "#0d0887"
             ],
             [
              0.1111111111111111,
              "#46039f"
             ],
             [
              0.2222222222222222,
              "#7201a8"
             ],
             [
              0.3333333333333333,
              "#9c179e"
             ],
             [
              0.4444444444444444,
              "#bd3786"
             ],
             [
              0.5555555555555556,
              "#d8576b"
             ],
             [
              0.6666666666666666,
              "#ed7953"
             ],
             [
              0.7777777777777778,
              "#fb9f3a"
             ],
             [
              0.8888888888888888,
              "#fdca26"
             ],
             [
              1,
              "#f0f921"
             ]
            ],
            "type": "heatmapgl"
           }
          ],
          "histogram": [
           {
            "marker": {
             "pattern": {
              "fillmode": "overlay",
              "size": 10,
              "solidity": 0.2
             }
            },
            "type": "histogram"
           }
          ],
          "histogram2d": [
           {
            "colorbar": {
             "outlinewidth": 0,
             "ticks": ""
            },
            "colorscale": [
             [
              0,
              "#0d0887"
             ],
             [
              0.1111111111111111,
              "#46039f"
             ],
             [
              0.2222222222222222,
              "#7201a8"
             ],
             [
              0.3333333333333333,
              "#9c179e"
             ],
             [
              0.4444444444444444,
              "#bd3786"
             ],
             [
              0.5555555555555556,
              "#d8576b"
             ],
             [
              0.6666666666666666,
              "#ed7953"
             ],
             [
              0.7777777777777778,
              "#fb9f3a"
             ],
             [
              0.8888888888888888,
              "#fdca26"
             ],
             [
              1,
              "#f0f921"
             ]
            ],
            "type": "histogram2d"
           }
          ],
          "histogram2dcontour": [
           {
            "colorbar": {
             "outlinewidth": 0,
             "ticks": ""
            },
            "colorscale": [
             [
              0,
              "#0d0887"
             ],
             [
              0.1111111111111111,
              "#46039f"
             ],
             [
              0.2222222222222222,
              "#7201a8"
             ],
             [
              0.3333333333333333,
              "#9c179e"
             ],
             [
              0.4444444444444444,
              "#bd3786"
             ],
             [
              0.5555555555555556,
              "#d8576b"
             ],
             [
              0.6666666666666666,
              "#ed7953"
             ],
             [
              0.7777777777777778,
              "#fb9f3a"
             ],
             [
              0.8888888888888888,
              "#fdca26"
             ],
             [
              1,
              "#f0f921"
             ]
            ],
            "type": "histogram2dcontour"
           }
          ],
          "mesh3d": [
           {
            "colorbar": {
             "outlinewidth": 0,
             "ticks": ""
            },
            "type": "mesh3d"
           }
          ],
          "parcoords": [
           {
            "line": {
             "colorbar": {
              "outlinewidth": 0,
              "ticks": ""
             }
            },
            "type": "parcoords"
           }
          ],
          "pie": [
           {
            "automargin": true,
            "type": "pie"
           }
          ],
          "scatter": [
           {
            "fillpattern": {
             "fillmode": "overlay",
             "size": 10,
             "solidity": 0.2
            },
            "type": "scatter"
           }
          ],
          "scatter3d": [
           {
            "line": {
             "colorbar": {
              "outlinewidth": 0,
              "ticks": ""
             }
            },
            "marker": {
             "colorbar": {
              "outlinewidth": 0,
              "ticks": ""
             }
            },
            "type": "scatter3d"
           }
          ],
          "scattercarpet": [
           {
            "marker": {
             "colorbar": {
              "outlinewidth": 0,
              "ticks": ""
             }
            },
            "type": "scattercarpet"
           }
          ],
          "scattergeo": [
           {
            "marker": {
             "colorbar": {
              "outlinewidth": 0,
              "ticks": ""
             }
            },
            "type": "scattergeo"
           }
          ],
          "scattergl": [
           {
            "marker": {
             "colorbar": {
              "outlinewidth": 0,
              "ticks": ""
             }
            },
            "type": "scattergl"
           }
          ],
          "scattermapbox": [
           {
            "marker": {
             "colorbar": {
              "outlinewidth": 0,
              "ticks": ""
             }
            },
            "type": "scattermapbox"
           }
          ],
          "scatterpolar": [
           {
            "marker": {
             "colorbar": {
              "outlinewidth": 0,
              "ticks": ""
             }
            },
            "type": "scatterpolar"
           }
          ],
          "scatterpolargl": [
           {
            "marker": {
             "colorbar": {
              "outlinewidth": 0,
              "ticks": ""
             }
            },
            "type": "scatterpolargl"
           }
          ],
          "scatterternary": [
           {
            "marker": {
             "colorbar": {
              "outlinewidth": 0,
              "ticks": ""
             }
            },
            "type": "scatterternary"
           }
          ],
          "surface": [
           {
            "colorbar": {
             "outlinewidth": 0,
             "ticks": ""
            },
            "colorscale": [
             [
              0,
              "#0d0887"
             ],
             [
              0.1111111111111111,
              "#46039f"
             ],
             [
              0.2222222222222222,
              "#7201a8"
             ],
             [
              0.3333333333333333,
              "#9c179e"
             ],
             [
              0.4444444444444444,
              "#bd3786"
             ],
             [
              0.5555555555555556,
              "#d8576b"
             ],
             [
              0.6666666666666666,
              "#ed7953"
             ],
             [
              0.7777777777777778,
              "#fb9f3a"
             ],
             [
              0.8888888888888888,
              "#fdca26"
             ],
             [
              1,
              "#f0f921"
             ]
            ],
            "type": "surface"
           }
          ],
          "table": [
           {
            "cells": {
             "fill": {
              "color": "#EBF0F8"
             },
             "line": {
              "color": "white"
             }
            },
            "header": {
             "fill": {
              "color": "#C8D4E3"
             },
             "line": {
              "color": "white"
             }
            },
            "type": "table"
           }
          ]
         },
         "layout": {
          "annotationdefaults": {
           "arrowcolor": "#2a3f5f",
           "arrowhead": 0,
           "arrowwidth": 1
          },
          "autotypenumbers": "strict",
          "coloraxis": {
           "colorbar": {
            "outlinewidth": 0,
            "ticks": ""
           }
          },
          "colorscale": {
           "diverging": [
            [
             0,
             "#8e0152"
            ],
            [
             0.1,
             "#c51b7d"
            ],
            [
             0.2,
             "#de77ae"
            ],
            [
             0.3,
             "#f1b6da"
            ],
            [
             0.4,
             "#fde0ef"
            ],
            [
             0.5,
             "#f7f7f7"
            ],
            [
             0.6,
             "#e6f5d0"
            ],
            [
             0.7,
             "#b8e186"
            ],
            [
             0.8,
             "#7fbc41"
            ],
            [
             0.9,
             "#4d9221"
            ],
            [
             1,
             "#276419"
            ]
           ],
           "sequential": [
            [
             0,
             "#0d0887"
            ],
            [
             0.1111111111111111,
             "#46039f"
            ],
            [
             0.2222222222222222,
             "#7201a8"
            ],
            [
             0.3333333333333333,
             "#9c179e"
            ],
            [
             0.4444444444444444,
             "#bd3786"
            ],
            [
             0.5555555555555556,
             "#d8576b"
            ],
            [
             0.6666666666666666,
             "#ed7953"
            ],
            [
             0.7777777777777778,
             "#fb9f3a"
            ],
            [
             0.8888888888888888,
             "#fdca26"
            ],
            [
             1,
             "#f0f921"
            ]
           ],
           "sequentialminus": [
            [
             0,
             "#0d0887"
            ],
            [
             0.1111111111111111,
             "#46039f"
            ],
            [
             0.2222222222222222,
             "#7201a8"
            ],
            [
             0.3333333333333333,
             "#9c179e"
            ],
            [
             0.4444444444444444,
             "#bd3786"
            ],
            [
             0.5555555555555556,
             "#d8576b"
            ],
            [
             0.6666666666666666,
             "#ed7953"
            ],
            [
             0.7777777777777778,
             "#fb9f3a"
            ],
            [
             0.8888888888888888,
             "#fdca26"
            ],
            [
             1,
             "#f0f921"
            ]
           ]
          },
          "colorway": [
           "#636efa",
           "#EF553B",
           "#00cc96",
           "#ab63fa",
           "#FFA15A",
           "#19d3f3",
           "#FF6692",
           "#B6E880",
           "#FF97FF",
           "#FECB52"
          ],
          "font": {
           "color": "#2a3f5f"
          },
          "geo": {
           "bgcolor": "white",
           "lakecolor": "white",
           "landcolor": "#E5ECF6",
           "showlakes": true,
           "showland": true,
           "subunitcolor": "white"
          },
          "hoverlabel": {
           "align": "left"
          },
          "hovermode": "closest",
          "mapbox": {
           "style": "light"
          },
          "paper_bgcolor": "white",
          "plot_bgcolor": "#E5ECF6",
          "polar": {
           "angularaxis": {
            "gridcolor": "white",
            "linecolor": "white",
            "ticks": ""
           },
           "bgcolor": "#E5ECF6",
           "radialaxis": {
            "gridcolor": "white",
            "linecolor": "white",
            "ticks": ""
           }
          },
          "scene": {
           "xaxis": {
            "backgroundcolor": "#E5ECF6",
            "gridcolor": "white",
            "gridwidth": 2,
            "linecolor": "white",
            "showbackground": true,
            "ticks": "",
            "zerolinecolor": "white"
           },
           "yaxis": {
            "backgroundcolor": "#E5ECF6",
            "gridcolor": "white",
            "gridwidth": 2,
            "linecolor": "white",
            "showbackground": true,
            "ticks": "",
            "zerolinecolor": "white"
           },
           "zaxis": {
            "backgroundcolor": "#E5ECF6",
            "gridcolor": "white",
            "gridwidth": 2,
            "linecolor": "white",
            "showbackground": true,
            "ticks": "",
            "zerolinecolor": "white"
           }
          },
          "shapedefaults": {
           "line": {
            "color": "#2a3f5f"
           }
          },
          "ternary": {
           "aaxis": {
            "gridcolor": "white",
            "linecolor": "white",
            "ticks": ""
           },
           "baxis": {
            "gridcolor": "white",
            "linecolor": "white",
            "ticks": ""
           },
           "bgcolor": "#E5ECF6",
           "caxis": {
            "gridcolor": "white",
            "linecolor": "white",
            "ticks": ""
           }
          },
          "title": {
           "x": 0.05
          },
          "xaxis": {
           "automargin": true,
           "gridcolor": "white",
           "linecolor": "white",
           "ticks": "",
           "title": {
            "standoff": 15
           },
           "zerolinecolor": "white",
           "zerolinewidth": 2
          },
          "yaxis": {
           "automargin": true,
           "gridcolor": "white",
           "linecolor": "white",
           "ticks": "",
           "title": {
            "standoff": 15
           },
           "zerolinecolor": "white",
           "zerolinewidth": 2
          }
         }
        },
        "xaxis": {
         "title": {
          "text": "Intervention Multiplier Constant"
         }
        },
        "yaxis": {
         "title": {
          "text": "BLEU"
         }
        }
       }
      },
      "text/html": [
       "<div>                            <div id=\"cda159a9-9e2f-4f8f-933d-b45c4d56241d\" class=\"plotly-graph-div\" style=\"height:525px; width:100%;\"></div>            <script type=\"text/javascript\">                require([\"plotly\"], function(Plotly) {                    window.PLOTLYENV=window.PLOTLYENV || {};                                    if (document.getElementById(\"cda159a9-9e2f-4f8f-933d-b45c4d56241d\")) {                    Plotly.newPlot(                        \"cda159a9-9e2f-4f8f-933d-b45c4d56241d\",                        [{\"mode\":\"lines+markers\",\"name\":\"llama-3.2-3b-instruct_sw-points\",\"x\":[0,1,2,3,4,5],\"y\":[0.266,0.255,0.045,0.046,0.045,0.046],\"type\":\"scatter\"},{\"error_y\":{\"array\":[0.028271598752104558,0.0,0.008874277435374675,0.016704904190087418,0.029995044924120383,0.020030394504352633],\"type\":\"data\",\"visible\":true},\"mode\":\"lines+markers\",\"name\":\"llama-3.2-3b-instruct_random\",\"x\":[0,1,2,3,4,5],\"y\":[0.2394,0.255,0.253,0.24219999999999997,0.22400000000000003,0.23079999999999998],\"type\":\"scatter\"},{\"mode\":\"lines+markers\",\"name\":\"qwen-7b-instruct_sw-points\",\"x\":[0,1,2,3,4,5],\"y\":[0.011,0.064,0.064,0.004,0.042,0.042],\"type\":\"scatter\"},{\"error_y\":{\"array\":[0.023237368525717363,0.0,0.0018176292251171596,0.0020179435076334517,0.002867232812312248,0.004312000000000002],\"type\":\"data\",\"visible\":true},\"mode\":\"lines+markers\",\"name\":\"qwen-7b-instruct_random\",\"x\":[0,1,2,3,4,5],\"y\":[0.0504,0.064,0.0636,0.0606,0.0628,0.0622],\"type\":\"scatter\"}],                        {\"template\":{\"data\":{\"histogram2dcontour\":[{\"type\":\"histogram2dcontour\",\"colorbar\":{\"outlinewidth\":0,\"ticks\":\"\"},\"colorscale\":[[0.0,\"#0d0887\"],[0.1111111111111111,\"#46039f\"],[0.2222222222222222,\"#7201a8\"],[0.3333333333333333,\"#9c179e\"],[0.4444444444444444,\"#bd3786\"],[0.5555555555555556,\"#d8576b\"],[0.6666666666666666,\"#ed7953\"],[0.7777777777777778,\"#fb9f3a\"],[0.8888888888888888,\"#fdca26\"],[1.0,\"#f0f921\"]]}],\"choropleth\":[{\"type\":\"choropleth\",\"colorbar\":{\"outlinewidth\":0,\"ticks\":\"\"}}],\"histogram2d\":[{\"type\":\"histogram2d\",\"colorbar\":{\"outlinewidth\":0,\"ticks\":\"\"},\"colorscale\":[[0.0,\"#0d0887\"],[0.1111111111111111,\"#46039f\"],[0.2222222222222222,\"#7201a8\"],[0.3333333333333333,\"#9c179e\"],[0.4444444444444444,\"#bd3786\"],[0.5555555555555556,\"#d8576b\"],[0.6666666666666666,\"#ed7953\"],[0.7777777777777778,\"#fb9f3a\"],[0.8888888888888888,\"#fdca26\"],[1.0,\"#f0f921\"]]}],\"heatmap\":[{\"type\":\"heatmap\",\"colorbar\":{\"outlinewidth\":0,\"ticks\":\"\"},\"colorscale\":[[0.0,\"#0d0887\"],[0.1111111111111111,\"#46039f\"],[0.2222222222222222,\"#7201a8\"],[0.3333333333333333,\"#9c179e\"],[0.4444444444444444,\"#bd3786\"],[0.5555555555555556,\"#d8576b\"],[0.6666666666666666,\"#ed7953\"],[0.7777777777777778,\"#fb9f3a\"],[0.8888888888888888,\"#fdca26\"],[1.0,\"#f0f921\"]]}],\"heatmapgl\":[{\"type\":\"heatmapgl\",\"colorbar\":{\"outlinewidth\":0,\"ticks\":\"\"},\"colorscale\":[[0.0,\"#0d0887\"],[0.1111111111111111,\"#46039f\"],[0.2222222222222222,\"#7201a8\"],[0.3333333333333333,\"#9c179e\"],[0.4444444444444444,\"#bd3786\"],[0.5555555555555556,\"#d8576b\"],[0.6666666666666666,\"#ed7953\"],[0.7777777777777778,\"#fb9f3a\"],[0.8888888888888888,\"#fdca26\"],[1.0,\"#f0f921\"]]}],\"contourcarpet\":[{\"type\":\"contourcarpet\",\"colorbar\":{\"outlinewidth\":0,\"ticks\":\"\"}}],\"contour\":[{\"type\":\"contour\",\"colorbar\":{\"outlinewidth\":0,\"ticks\":\"\"},\"colorscale\":[[0.0,\"#0d0887\"],[0.1111111111111111,\"#46039f\"],[0.2222222222222222,\"#7201a8\"],[0.3333333333333333,\"#9c179e\"],[0.4444444444444444,\"#bd3786\"],[0.5555555555555556,\"#d8576b\"],[0.6666666666666666,\"#ed7953\"],[0.7777777777777778,\"#fb9f3a\"],[0.8888888888888888,\"#fdca26\"],[1.0,\"#f0f921\"]]}],\"surface\":[{\"type\":\"surface\",\"colorbar\":{\"outlinewidth\":0,\"ticks\":\"\"},\"colorscale\":[[0.0,\"#0d0887\"],[0.1111111111111111,\"#46039f\"],[0.2222222222222222,\"#7201a8\"],[0.3333333333333333,\"#9c179e\"],[0.4444444444444444,\"#bd3786\"],[0.5555555555555556,\"#d8576b\"],[0.6666666666666666,\"#ed7953\"],[0.7777777777777778,\"#fb9f3a\"],[0.8888888888888888,\"#fdca26\"],[1.0,\"#f0f921\"]]}],\"mesh3d\":[{\"type\":\"mesh3d\",\"colorbar\":{\"outlinewidth\":0,\"ticks\":\"\"}}],\"scatter\":[{\"fillpattern\":{\"fillmode\":\"overlay\",\"size\":10,\"solidity\":0.2},\"type\":\"scatter\"}],\"parcoords\":[{\"type\":\"parcoords\",\"line\":{\"colorbar\":{\"outlinewidth\":0,\"ticks\":\"\"}}}],\"scatterpolargl\":[{\"type\":\"scatterpolargl\",\"marker\":{\"colorbar\":{\"outlinewidth\":0,\"ticks\":\"\"}}}],\"bar\":[{\"error_x\":{\"color\":\"#2a3f5f\"},\"error_y\":{\"color\":\"#2a3f5f\"},\"marker\":{\"line\":{\"color\":\"#E5ECF6\",\"width\":0.5},\"pattern\":{\"fillmode\":\"overlay\",\"size\":10,\"solidity\":0.2}},\"type\":\"bar\"}],\"scattergeo\":[{\"type\":\"scattergeo\",\"marker\":{\"colorbar\":{\"outlinewidth\":0,\"ticks\":\"\"}}}],\"scatterpolar\":[{\"type\":\"scatterpolar\",\"marker\":{\"colorbar\":{\"outlinewidth\":0,\"ticks\":\"\"}}}],\"histogram\":[{\"marker\":{\"pattern\":{\"fillmode\":\"overlay\",\"size\":10,\"solidity\":0.2}},\"type\":\"histogram\"}],\"scattergl\":[{\"type\":\"scattergl\",\"marker\":{\"colorbar\":{\"outlinewidth\":0,\"ticks\":\"\"}}}],\"scatter3d\":[{\"type\":\"scatter3d\",\"line\":{\"colorbar\":{\"outlinewidth\":0,\"ticks\":\"\"}},\"marker\":{\"colorbar\":{\"outlinewidth\":0,\"ticks\":\"\"}}}],\"scattermapbox\":[{\"type\":\"scattermapbox\",\"marker\":{\"colorbar\":{\"outlinewidth\":0,\"ticks\":\"\"}}}],\"scatterternary\":[{\"type\":\"scatterternary\",\"marker\":{\"colorbar\":{\"outlinewidth\":0,\"ticks\":\"\"}}}],\"scattercarpet\":[{\"type\":\"scattercarpet\",\"marker\":{\"colorbar\":{\"outlinewidth\":0,\"ticks\":\"\"}}}],\"carpet\":[{\"aaxis\":{\"endlinecolor\":\"#2a3f5f\",\"gridcolor\":\"white\",\"linecolor\":\"white\",\"minorgridcolor\":\"white\",\"startlinecolor\":\"#2a3f5f\"},\"baxis\":{\"endlinecolor\":\"#2a3f5f\",\"gridcolor\":\"white\",\"linecolor\":\"white\",\"minorgridcolor\":\"white\",\"startlinecolor\":\"#2a3f5f\"},\"type\":\"carpet\"}],\"table\":[{\"cells\":{\"fill\":{\"color\":\"#EBF0F8\"},\"line\":{\"color\":\"white\"}},\"header\":{\"fill\":{\"color\":\"#C8D4E3\"},\"line\":{\"color\":\"white\"}},\"type\":\"table\"}],\"barpolar\":[{\"marker\":{\"line\":{\"color\":\"#E5ECF6\",\"width\":0.5},\"pattern\":{\"fillmode\":\"overlay\",\"size\":10,\"solidity\":0.2}},\"type\":\"barpolar\"}],\"pie\":[{\"automargin\":true,\"type\":\"pie\"}]},\"layout\":{\"autotypenumbers\":\"strict\",\"colorway\":[\"#636efa\",\"#EF553B\",\"#00cc96\",\"#ab63fa\",\"#FFA15A\",\"#19d3f3\",\"#FF6692\",\"#B6E880\",\"#FF97FF\",\"#FECB52\"],\"font\":{\"color\":\"#2a3f5f\"},\"hovermode\":\"closest\",\"hoverlabel\":{\"align\":\"left\"},\"paper_bgcolor\":\"white\",\"plot_bgcolor\":\"#E5ECF6\",\"polar\":{\"bgcolor\":\"#E5ECF6\",\"angularaxis\":{\"gridcolor\":\"white\",\"linecolor\":\"white\",\"ticks\":\"\"},\"radialaxis\":{\"gridcolor\":\"white\",\"linecolor\":\"white\",\"ticks\":\"\"}},\"ternary\":{\"bgcolor\":\"#E5ECF6\",\"aaxis\":{\"gridcolor\":\"white\",\"linecolor\":\"white\",\"ticks\":\"\"},\"baxis\":{\"gridcolor\":\"white\",\"linecolor\":\"white\",\"ticks\":\"\"},\"caxis\":{\"gridcolor\":\"white\",\"linecolor\":\"white\",\"ticks\":\"\"}},\"coloraxis\":{\"colorbar\":{\"outlinewidth\":0,\"ticks\":\"\"}},\"colorscale\":{\"sequential\":[[0.0,\"#0d0887\"],[0.1111111111111111,\"#46039f\"],[0.2222222222222222,\"#7201a8\"],[0.3333333333333333,\"#9c179e\"],[0.4444444444444444,\"#bd3786\"],[0.5555555555555556,\"#d8576b\"],[0.6666666666666666,\"#ed7953\"],[0.7777777777777778,\"#fb9f3a\"],[0.8888888888888888,\"#fdca26\"],[1.0,\"#f0f921\"]],\"sequentialminus\":[[0.0,\"#0d0887\"],[0.1111111111111111,\"#46039f\"],[0.2222222222222222,\"#7201a8\"],[0.3333333333333333,\"#9c179e\"],[0.4444444444444444,\"#bd3786\"],[0.5555555555555556,\"#d8576b\"],[0.6666666666666666,\"#ed7953\"],[0.7777777777777778,\"#fb9f3a\"],[0.8888888888888888,\"#fdca26\"],[1.0,\"#f0f921\"]],\"diverging\":[[0,\"#8e0152\"],[0.1,\"#c51b7d\"],[0.2,\"#de77ae\"],[0.3,\"#f1b6da\"],[0.4,\"#fde0ef\"],[0.5,\"#f7f7f7\"],[0.6,\"#e6f5d0\"],[0.7,\"#b8e186\"],[0.8,\"#7fbc41\"],[0.9,\"#4d9221\"],[1,\"#276419\"]]},\"xaxis\":{\"gridcolor\":\"white\",\"linecolor\":\"white\",\"ticks\":\"\",\"title\":{\"standoff\":15},\"zerolinecolor\":\"white\",\"automargin\":true,\"zerolinewidth\":2},\"yaxis\":{\"gridcolor\":\"white\",\"linecolor\":\"white\",\"ticks\":\"\",\"title\":{\"standoff\":15},\"zerolinecolor\":\"white\",\"automargin\":true,\"zerolinewidth\":2},\"scene\":{\"xaxis\":{\"backgroundcolor\":\"#E5ECF6\",\"gridcolor\":\"white\",\"linecolor\":\"white\",\"showbackground\":true,\"ticks\":\"\",\"zerolinecolor\":\"white\",\"gridwidth\":2},\"yaxis\":{\"backgroundcolor\":\"#E5ECF6\",\"gridcolor\":\"white\",\"linecolor\":\"white\",\"showbackground\":true,\"ticks\":\"\",\"zerolinecolor\":\"white\",\"gridwidth\":2},\"zaxis\":{\"backgroundcolor\":\"#E5ECF6\",\"gridcolor\":\"white\",\"linecolor\":\"white\",\"showbackground\":true,\"ticks\":\"\",\"zerolinecolor\":\"white\",\"gridwidth\":2}},\"shapedefaults\":{\"line\":{\"color\":\"#2a3f5f\"}},\"annotationdefaults\":{\"arrowcolor\":\"#2a3f5f\",\"arrowhead\":0,\"arrowwidth\":1},\"geo\":{\"bgcolor\":\"white\",\"landcolor\":\"#E5ECF6\",\"subunitcolor\":\"white\",\"showland\":true,\"showlakes\":true,\"lakecolor\":\"white\"},\"title\":{\"x\":0.05},\"mapbox\":{\"style\":\"light\"}}},\"xaxis\":{\"title\":{\"text\":\"Intervention Multiplier Constant\"}},\"yaxis\":{\"title\":{\"text\":\"BLEU\"}}},                        {\"responsive\": true}                    ).then(function(){\n",
       "                            \n",
       "var gd = document.getElementById('cda159a9-9e2f-4f8f-933d-b45c4d56241d');\n",
       "var x = new MutationObserver(function (mutations, observer) {{\n",
       "        var display = window.getComputedStyle(gd).display;\n",
       "        if (!display || display === 'none') {{\n",
       "            console.log([gd, 'removed!']);\n",
       "            Plotly.purge(gd);\n",
       "            observer.disconnect();\n",
       "        }}\n",
       "}});\n",
       "\n",
       "// Listen for the removal of the full notebook cells\n",
       "var notebookContainer = gd.closest('#notebook-container');\n",
       "if (notebookContainer) {{\n",
       "    x.observe(notebookContainer, {childList: true});\n",
       "}}\n",
       "\n",
       "// Listen for the clearing of the current output cell\n",
       "var outputEl = gd.closest('.output');\n",
       "if (outputEl) {{\n",
       "    x.observe(outputEl, {childList: true});\n",
       "}}\n",
       "\n",
       "                        })                };                });            </script>        </div>"
      ]
     },
     "metadata": {},
     "output_type": "display_data"
    }
   ],
   "source": [
    "# BLEU\n",
    "llama_sw = [0.266, 0.255, 0.045, 0.046, 0.045, 0.046]\n",
    "llama_rand1 = [0.253, 0.255, 0.253,0.250, 0.243, 0.241]\n",
    "llama_rand2 = [0.259, 0.255, 0.244, 0.212, 0.169, 0.241]\n",
    "llama_rand3 = [0.250, 0.255, 0.251, 0.244, 0.225, 0.209]\n",
    "llama_rand4 = [0.253, 0.255, 0.247, 0.241, 0.223, 0.205]\n",
    "llama_rand5 = [0.182, 0.255, 0.270, 0.264, 0.260, 0.258]\n",
    "llama_rand = [llama_rand1, llama_rand2, llama_rand3, llama_rand4, llama_rand5]\n",
    "\n",
    "qwen_sw = [0.011, 0.064, 0.064, 0.004, 0.042, 0.042]\n",
    "qwen_rand1 = [0.003, 0.064, 0.064,0.059, 0.062, 0.060]\n",
    "qwen_rand2 = [0.062, 0.064, 0.062, 0.063, 0.067, 0.068]\n",
    "qwen_rand3 = [0.061, 0.064, 0.063, 0.058, 0.058, 0.055]\n",
    "qwen_rand4 = [0.063, 0.064, 0.062, 0.063, 0.063, 0.064]\n",
    "qwen_rand5 = [0.063, 0.064, 0.067, 0.060, 0.064, 0.064]\n",
    "qwen_rand = [qwen_rand1, qwen_rand2, qwen_rand3, qwen_rand4, qwen_rand5]\n",
    "\n",
    "labels = ['llama-3.2-3b-instruct_sw-points', 'llama-3.2-3b-instruct_random', 'qwen-7b-instruct_sw-points', 'qwen-7b-instruct_random']\n",
    "all_scores = [llama_sw, llama_rand, qwen_sw, qwen_rand]\n",
    "metric_name = 'BLEU'\n",
    "out_path = '../figures/bleu-multiplier-effects'\n",
    "visualize_scores(all_scores, labels, metric_name, out_path)\n"
   ]
  },
  {
   "cell_type": "code",
   "execution_count": 9,
   "metadata": {},
   "outputs": [
    {
     "data": {
      "application/vnd.plotly.v1+json": {
       "config": {
        "plotlyServerURL": "https://plot.ly"
       },
       "data": [
        {
         "mode": "lines+markers",
         "name": "llama-3.2-3b-instruct_sw-points",
         "type": "scatter",
         "x": [
          0,
          1,
          2,
          3,
          4,
          5
         ],
         "y": [
          0.76,
          0.73,
          0.69,
          0.68,
          0.67,
          0.62
         ]
        },
        {
         "error_y": {
          "array": [
           0.030616178729554067,
           0,
           0.011428665713896797,
           0.019988156493283733,
           0.02658673353385104,
           0.03790459602739486
          ],
          "type": "data",
          "visible": true
         },
         "mode": "lines+markers",
         "name": "llama-3.2-3b-instruct_random",
         "type": "scatter",
         "x": [
          0,
          1,
          2,
          3,
          4,
          5
         ],
         "y": [
          0.712,
          0.73,
          0.728,
          0.718,
          0.702,
          0.6880000000000001
         ]
        },
        {
         "mode": "lines+markers",
         "name": "qwen-7b-instruct_sw-points",
         "type": "scatter",
         "x": [
          0,
          1,
          2,
          3,
          4,
          5
         ],
         "y": [
          0.4,
          0.53,
          0.55,
          0.56,
          0.57,
          0.57
         ]
        },
        {
         "error_y": {
          "array": [
           0.06968344423175422,
           0,
           0.003920000000000003,
           0.003920000000000003,
           0.003920000000000003,
           0.006198064213930029
          ],
          "type": "data",
          "visible": true
         },
         "mode": "lines+markers",
         "name": "qwen-7b-instruct_random",
         "type": "scatter",
         "x": [
          0,
          1,
          2,
          3,
          4,
          5
         ],
         "y": [
          0.5120000000000001,
          0.53,
          0.542,
          0.542,
          0.542,
          0.54
         ]
        }
       ],
       "layout": {
        "template": {
         "data": {
          "bar": [
           {
            "error_x": {
             "color": "#2a3f5f"
            },
            "error_y": {
             "color": "#2a3f5f"
            },
            "marker": {
             "line": {
              "color": "#E5ECF6",
              "width": 0.5
             },
             "pattern": {
              "fillmode": "overlay",
              "size": 10,
              "solidity": 0.2
             }
            },
            "type": "bar"
           }
          ],
          "barpolar": [
           {
            "marker": {
             "line": {
              "color": "#E5ECF6",
              "width": 0.5
             },
             "pattern": {
              "fillmode": "overlay",
              "size": 10,
              "solidity": 0.2
             }
            },
            "type": "barpolar"
           }
          ],
          "carpet": [
           {
            "aaxis": {
             "endlinecolor": "#2a3f5f",
             "gridcolor": "white",
             "linecolor": "white",
             "minorgridcolor": "white",
             "startlinecolor": "#2a3f5f"
            },
            "baxis": {
             "endlinecolor": "#2a3f5f",
             "gridcolor": "white",
             "linecolor": "white",
             "minorgridcolor": "white",
             "startlinecolor": "#2a3f5f"
            },
            "type": "carpet"
           }
          ],
          "choropleth": [
           {
            "colorbar": {
             "outlinewidth": 0,
             "ticks": ""
            },
            "type": "choropleth"
           }
          ],
          "contour": [
           {
            "colorbar": {
             "outlinewidth": 0,
             "ticks": ""
            },
            "colorscale": [
             [
              0,
              "#0d0887"
             ],
             [
              0.1111111111111111,
              "#46039f"
             ],
             [
              0.2222222222222222,
              "#7201a8"
             ],
             [
              0.3333333333333333,
              "#9c179e"
             ],
             [
              0.4444444444444444,
              "#bd3786"
             ],
             [
              0.5555555555555556,
              "#d8576b"
             ],
             [
              0.6666666666666666,
              "#ed7953"
             ],
             [
              0.7777777777777778,
              "#fb9f3a"
             ],
             [
              0.8888888888888888,
              "#fdca26"
             ],
             [
              1,
              "#f0f921"
             ]
            ],
            "type": "contour"
           }
          ],
          "contourcarpet": [
           {
            "colorbar": {
             "outlinewidth": 0,
             "ticks": ""
            },
            "type": "contourcarpet"
           }
          ],
          "heatmap": [
           {
            "colorbar": {
             "outlinewidth": 0,
             "ticks": ""
            },
            "colorscale": [
             [
              0,
              "#0d0887"
             ],
             [
              0.1111111111111111,
              "#46039f"
             ],
             [
              0.2222222222222222,
              "#7201a8"
             ],
             [
              0.3333333333333333,
              "#9c179e"
             ],
             [
              0.4444444444444444,
              "#bd3786"
             ],
             [
              0.5555555555555556,
              "#d8576b"
             ],
             [
              0.6666666666666666,
              "#ed7953"
             ],
             [
              0.7777777777777778,
              "#fb9f3a"
             ],
             [
              0.8888888888888888,
              "#fdca26"
             ],
             [
              1,
              "#f0f921"
             ]
            ],
            "type": "heatmap"
           }
          ],
          "heatmapgl": [
           {
            "colorbar": {
             "outlinewidth": 0,
             "ticks": ""
            },
            "colorscale": [
             [
              0,
              "#0d0887"
             ],
             [
              0.1111111111111111,
              "#46039f"
             ],
             [
              0.2222222222222222,
              "#7201a8"
             ],
             [
              0.3333333333333333,
              "#9c179e"
             ],
             [
              0.4444444444444444,
              "#bd3786"
             ],
             [
              0.5555555555555556,
              "#d8576b"
             ],
             [
              0.6666666666666666,
              "#ed7953"
             ],
             [
              0.7777777777777778,
              "#fb9f3a"
             ],
             [
              0.8888888888888888,
              "#fdca26"
             ],
             [
              1,
              "#f0f921"
             ]
            ],
            "type": "heatmapgl"
           }
          ],
          "histogram": [
           {
            "marker": {
             "pattern": {
              "fillmode": "overlay",
              "size": 10,
              "solidity": 0.2
             }
            },
            "type": "histogram"
           }
          ],
          "histogram2d": [
           {
            "colorbar": {
             "outlinewidth": 0,
             "ticks": ""
            },
            "colorscale": [
             [
              0,
              "#0d0887"
             ],
             [
              0.1111111111111111,
              "#46039f"
             ],
             [
              0.2222222222222222,
              "#7201a8"
             ],
             [
              0.3333333333333333,
              "#9c179e"
             ],
             [
              0.4444444444444444,
              "#bd3786"
             ],
             [
              0.5555555555555556,
              "#d8576b"
             ],
             [
              0.6666666666666666,
              "#ed7953"
             ],
             [
              0.7777777777777778,
              "#fb9f3a"
             ],
             [
              0.8888888888888888,
              "#fdca26"
             ],
             [
              1,
              "#f0f921"
             ]
            ],
            "type": "histogram2d"
           }
          ],
          "histogram2dcontour": [
           {
            "colorbar": {
             "outlinewidth": 0,
             "ticks": ""
            },
            "colorscale": [
             [
              0,
              "#0d0887"
             ],
             [
              0.1111111111111111,
              "#46039f"
             ],
             [
              0.2222222222222222,
              "#7201a8"
             ],
             [
              0.3333333333333333,
              "#9c179e"
             ],
             [
              0.4444444444444444,
              "#bd3786"
             ],
             [
              0.5555555555555556,
              "#d8576b"
             ],
             [
              0.6666666666666666,
              "#ed7953"
             ],
             [
              0.7777777777777778,
              "#fb9f3a"
             ],
             [
              0.8888888888888888,
              "#fdca26"
             ],
             [
              1,
              "#f0f921"
             ]
            ],
            "type": "histogram2dcontour"
           }
          ],
          "mesh3d": [
           {
            "colorbar": {
             "outlinewidth": 0,
             "ticks": ""
            },
            "type": "mesh3d"
           }
          ],
          "parcoords": [
           {
            "line": {
             "colorbar": {
              "outlinewidth": 0,
              "ticks": ""
             }
            },
            "type": "parcoords"
           }
          ],
          "pie": [
           {
            "automargin": true,
            "type": "pie"
           }
          ],
          "scatter": [
           {
            "fillpattern": {
             "fillmode": "overlay",
             "size": 10,
             "solidity": 0.2
            },
            "type": "scatter"
           }
          ],
          "scatter3d": [
           {
            "line": {
             "colorbar": {
              "outlinewidth": 0,
              "ticks": ""
             }
            },
            "marker": {
             "colorbar": {
              "outlinewidth": 0,
              "ticks": ""
             }
            },
            "type": "scatter3d"
           }
          ],
          "scattercarpet": [
           {
            "marker": {
             "colorbar": {
              "outlinewidth": 0,
              "ticks": ""
             }
            },
            "type": "scattercarpet"
           }
          ],
          "scattergeo": [
           {
            "marker": {
             "colorbar": {
              "outlinewidth": 0,
              "ticks": ""
             }
            },
            "type": "scattergeo"
           }
          ],
          "scattergl": [
           {
            "marker": {
             "colorbar": {
              "outlinewidth": 0,
              "ticks": ""
             }
            },
            "type": "scattergl"
           }
          ],
          "scattermapbox": [
           {
            "marker": {
             "colorbar": {
              "outlinewidth": 0,
              "ticks": ""
             }
            },
            "type": "scattermapbox"
           }
          ],
          "scatterpolar": [
           {
            "marker": {
             "colorbar": {
              "outlinewidth": 0,
              "ticks": ""
             }
            },
            "type": "scatterpolar"
           }
          ],
          "scatterpolargl": [
           {
            "marker": {
             "colorbar": {
              "outlinewidth": 0,
              "ticks": ""
             }
            },
            "type": "scatterpolargl"
           }
          ],
          "scatterternary": [
           {
            "marker": {
             "colorbar": {
              "outlinewidth": 0,
              "ticks": ""
             }
            },
            "type": "scatterternary"
           }
          ],
          "surface": [
           {
            "colorbar": {
             "outlinewidth": 0,
             "ticks": ""
            },
            "colorscale": [
             [
              0,
              "#0d0887"
             ],
             [
              0.1111111111111111,
              "#46039f"
             ],
             [
              0.2222222222222222,
              "#7201a8"
             ],
             [
              0.3333333333333333,
              "#9c179e"
             ],
             [
              0.4444444444444444,
              "#bd3786"
             ],
             [
              0.5555555555555556,
              "#d8576b"
             ],
             [
              0.6666666666666666,
              "#ed7953"
             ],
             [
              0.7777777777777778,
              "#fb9f3a"
             ],
             [
              0.8888888888888888,
              "#fdca26"
             ],
             [
              1,
              "#f0f921"
             ]
            ],
            "type": "surface"
           }
          ],
          "table": [
           {
            "cells": {
             "fill": {
              "color": "#EBF0F8"
             },
             "line": {
              "color": "white"
             }
            },
            "header": {
             "fill": {
              "color": "#C8D4E3"
             },
             "line": {
              "color": "white"
             }
            },
            "type": "table"
           }
          ]
         },
         "layout": {
          "annotationdefaults": {
           "arrowcolor": "#2a3f5f",
           "arrowhead": 0,
           "arrowwidth": 1
          },
          "autotypenumbers": "strict",
          "coloraxis": {
           "colorbar": {
            "outlinewidth": 0,
            "ticks": ""
           }
          },
          "colorscale": {
           "diverging": [
            [
             0,
             "#8e0152"
            ],
            [
             0.1,
             "#c51b7d"
            ],
            [
             0.2,
             "#de77ae"
            ],
            [
             0.3,
             "#f1b6da"
            ],
            [
             0.4,
             "#fde0ef"
            ],
            [
             0.5,
             "#f7f7f7"
            ],
            [
             0.6,
             "#e6f5d0"
            ],
            [
             0.7,
             "#b8e186"
            ],
            [
             0.8,
             "#7fbc41"
            ],
            [
             0.9,
             "#4d9221"
            ],
            [
             1,
             "#276419"
            ]
           ],
           "sequential": [
            [
             0,
             "#0d0887"
            ],
            [
             0.1111111111111111,
             "#46039f"
            ],
            [
             0.2222222222222222,
             "#7201a8"
            ],
            [
             0.3333333333333333,
             "#9c179e"
            ],
            [
             0.4444444444444444,
             "#bd3786"
            ],
            [
             0.5555555555555556,
             "#d8576b"
            ],
            [
             0.6666666666666666,
             "#ed7953"
            ],
            [
             0.7777777777777778,
             "#fb9f3a"
            ],
            [
             0.8888888888888888,
             "#fdca26"
            ],
            [
             1,
             "#f0f921"
            ]
           ],
           "sequentialminus": [
            [
             0,
             "#0d0887"
            ],
            [
             0.1111111111111111,
             "#46039f"
            ],
            [
             0.2222222222222222,
             "#7201a8"
            ],
            [
             0.3333333333333333,
             "#9c179e"
            ],
            [
             0.4444444444444444,
             "#bd3786"
            ],
            [
             0.5555555555555556,
             "#d8576b"
            ],
            [
             0.6666666666666666,
             "#ed7953"
            ],
            [
             0.7777777777777778,
             "#fb9f3a"
            ],
            [
             0.8888888888888888,
             "#fdca26"
            ],
            [
             1,
             "#f0f921"
            ]
           ]
          },
          "colorway": [
           "#636efa",
           "#EF553B",
           "#00cc96",
           "#ab63fa",
           "#FFA15A",
           "#19d3f3",
           "#FF6692",
           "#B6E880",
           "#FF97FF",
           "#FECB52"
          ],
          "font": {
           "color": "#2a3f5f"
          },
          "geo": {
           "bgcolor": "white",
           "lakecolor": "white",
           "landcolor": "#E5ECF6",
           "showlakes": true,
           "showland": true,
           "subunitcolor": "white"
          },
          "hoverlabel": {
           "align": "left"
          },
          "hovermode": "closest",
          "mapbox": {
           "style": "light"
          },
          "paper_bgcolor": "white",
          "plot_bgcolor": "#E5ECF6",
          "polar": {
           "angularaxis": {
            "gridcolor": "white",
            "linecolor": "white",
            "ticks": ""
           },
           "bgcolor": "#E5ECF6",
           "radialaxis": {
            "gridcolor": "white",
            "linecolor": "white",
            "ticks": ""
           }
          },
          "scene": {
           "xaxis": {
            "backgroundcolor": "#E5ECF6",
            "gridcolor": "white",
            "gridwidth": 2,
            "linecolor": "white",
            "showbackground": true,
            "ticks": "",
            "zerolinecolor": "white"
           },
           "yaxis": {
            "backgroundcolor": "#E5ECF6",
            "gridcolor": "white",
            "gridwidth": 2,
            "linecolor": "white",
            "showbackground": true,
            "ticks": "",
            "zerolinecolor": "white"
           },
           "zaxis": {
            "backgroundcolor": "#E5ECF6",
            "gridcolor": "white",
            "gridwidth": 2,
            "linecolor": "white",
            "showbackground": true,
            "ticks": "",
            "zerolinecolor": "white"
           }
          },
          "shapedefaults": {
           "line": {
            "color": "#2a3f5f"
           }
          },
          "ternary": {
           "aaxis": {
            "gridcolor": "white",
            "linecolor": "white",
            "ticks": ""
           },
           "baxis": {
            "gridcolor": "white",
            "linecolor": "white",
            "ticks": ""
           },
           "bgcolor": "#E5ECF6",
           "caxis": {
            "gridcolor": "white",
            "linecolor": "white",
            "ticks": ""
           }
          },
          "title": {
           "x": 0.05
          },
          "xaxis": {
           "automargin": true,
           "gridcolor": "white",
           "linecolor": "white",
           "ticks": "",
           "title": {
            "standoff": 15
           },
           "zerolinecolor": "white",
           "zerolinewidth": 2
          },
          "yaxis": {
           "automargin": true,
           "gridcolor": "white",
           "linecolor": "white",
           "ticks": "",
           "title": {
            "standoff": 15
           },
           "zerolinecolor": "white",
           "zerolinewidth": 2
          }
         }
        },
        "xaxis": {
         "title": {
          "text": "Intervention Multiplier Constant"
         }
        },
        "yaxis": {
         "title": {
          "text": "COMET"
         }
        }
       }
      },
      "text/html": [
       "<div>                            <div id=\"b30b54b6-5ee8-4b9a-a070-140ef2cf13e6\" class=\"plotly-graph-div\" style=\"height:525px; width:100%;\"></div>            <script type=\"text/javascript\">                require([\"plotly\"], function(Plotly) {                    window.PLOTLYENV=window.PLOTLYENV || {};                                    if (document.getElementById(\"b30b54b6-5ee8-4b9a-a070-140ef2cf13e6\")) {                    Plotly.newPlot(                        \"b30b54b6-5ee8-4b9a-a070-140ef2cf13e6\",                        [{\"mode\":\"lines+markers\",\"name\":\"llama-3.2-3b-instruct_sw-points\",\"x\":[0,1,2,3,4,5],\"y\":[0.76,0.73,0.69,0.68,0.67,0.62],\"type\":\"scatter\"},{\"error_y\":{\"array\":[0.030616178729554067,0.0,0.011428665713896797,0.019988156493283733,0.02658673353385104,0.03790459602739486],\"type\":\"data\",\"visible\":true},\"mode\":\"lines+markers\",\"name\":\"llama-3.2-3b-instruct_random\",\"x\":[0,1,2,3,4,5],\"y\":[0.712,0.73,0.728,0.718,0.702,0.6880000000000001],\"type\":\"scatter\"},{\"mode\":\"lines+markers\",\"name\":\"qwen-7b-instruct_sw-points\",\"x\":[0,1,2,3,4,5],\"y\":[0.4,0.53,0.55,0.56,0.57,0.57],\"type\":\"scatter\"},{\"error_y\":{\"array\":[0.06968344423175422,0.0,0.003920000000000003,0.003920000000000003,0.003920000000000003,0.006198064213930029],\"type\":\"data\",\"visible\":true},\"mode\":\"lines+markers\",\"name\":\"qwen-7b-instruct_random\",\"x\":[0,1,2,3,4,5],\"y\":[0.5120000000000001,0.53,0.542,0.542,0.542,0.54],\"type\":\"scatter\"}],                        {\"template\":{\"data\":{\"histogram2dcontour\":[{\"type\":\"histogram2dcontour\",\"colorbar\":{\"outlinewidth\":0,\"ticks\":\"\"},\"colorscale\":[[0.0,\"#0d0887\"],[0.1111111111111111,\"#46039f\"],[0.2222222222222222,\"#7201a8\"],[0.3333333333333333,\"#9c179e\"],[0.4444444444444444,\"#bd3786\"],[0.5555555555555556,\"#d8576b\"],[0.6666666666666666,\"#ed7953\"],[0.7777777777777778,\"#fb9f3a\"],[0.8888888888888888,\"#fdca26\"],[1.0,\"#f0f921\"]]}],\"choropleth\":[{\"type\":\"choropleth\",\"colorbar\":{\"outlinewidth\":0,\"ticks\":\"\"}}],\"histogram2d\":[{\"type\":\"histogram2d\",\"colorbar\":{\"outlinewidth\":0,\"ticks\":\"\"},\"colorscale\":[[0.0,\"#0d0887\"],[0.1111111111111111,\"#46039f\"],[0.2222222222222222,\"#7201a8\"],[0.3333333333333333,\"#9c179e\"],[0.4444444444444444,\"#bd3786\"],[0.5555555555555556,\"#d8576b\"],[0.6666666666666666,\"#ed7953\"],[0.7777777777777778,\"#fb9f3a\"],[0.8888888888888888,\"#fdca26\"],[1.0,\"#f0f921\"]]}],\"heatmap\":[{\"type\":\"heatmap\",\"colorbar\":{\"outlinewidth\":0,\"ticks\":\"\"},\"colorscale\":[[0.0,\"#0d0887\"],[0.1111111111111111,\"#46039f\"],[0.2222222222222222,\"#7201a8\"],[0.3333333333333333,\"#9c179e\"],[0.4444444444444444,\"#bd3786\"],[0.5555555555555556,\"#d8576b\"],[0.6666666666666666,\"#ed7953\"],[0.7777777777777778,\"#fb9f3a\"],[0.8888888888888888,\"#fdca26\"],[1.0,\"#f0f921\"]]}],\"heatmapgl\":[{\"type\":\"heatmapgl\",\"colorbar\":{\"outlinewidth\":0,\"ticks\":\"\"},\"colorscale\":[[0.0,\"#0d0887\"],[0.1111111111111111,\"#46039f\"],[0.2222222222222222,\"#7201a8\"],[0.3333333333333333,\"#9c179e\"],[0.4444444444444444,\"#bd3786\"],[0.5555555555555556,\"#d8576b\"],[0.6666666666666666,\"#ed7953\"],[0.7777777777777778,\"#fb9f3a\"],[0.8888888888888888,\"#fdca26\"],[1.0,\"#f0f921\"]]}],\"contourcarpet\":[{\"type\":\"contourcarpet\",\"colorbar\":{\"outlinewidth\":0,\"ticks\":\"\"}}],\"contour\":[{\"type\":\"contour\",\"colorbar\":{\"outlinewidth\":0,\"ticks\":\"\"},\"colorscale\":[[0.0,\"#0d0887\"],[0.1111111111111111,\"#46039f\"],[0.2222222222222222,\"#7201a8\"],[0.3333333333333333,\"#9c179e\"],[0.4444444444444444,\"#bd3786\"],[0.5555555555555556,\"#d8576b\"],[0.6666666666666666,\"#ed7953\"],[0.7777777777777778,\"#fb9f3a\"],[0.8888888888888888,\"#fdca26\"],[1.0,\"#f0f921\"]]}],\"surface\":[{\"type\":\"surface\",\"colorbar\":{\"outlinewidth\":0,\"ticks\":\"\"},\"colorscale\":[[0.0,\"#0d0887\"],[0.1111111111111111,\"#46039f\"],[0.2222222222222222,\"#7201a8\"],[0.3333333333333333,\"#9c179e\"],[0.4444444444444444,\"#bd3786\"],[0.5555555555555556,\"#d8576b\"],[0.6666666666666666,\"#ed7953\"],[0.7777777777777778,\"#fb9f3a\"],[0.8888888888888888,\"#fdca26\"],[1.0,\"#f0f921\"]]}],\"mesh3d\":[{\"type\":\"mesh3d\",\"colorbar\":{\"outlinewidth\":0,\"ticks\":\"\"}}],\"scatter\":[{\"fillpattern\":{\"fillmode\":\"overlay\",\"size\":10,\"solidity\":0.2},\"type\":\"scatter\"}],\"parcoords\":[{\"type\":\"parcoords\",\"line\":{\"colorbar\":{\"outlinewidth\":0,\"ticks\":\"\"}}}],\"scatterpolargl\":[{\"type\":\"scatterpolargl\",\"marker\":{\"colorbar\":{\"outlinewidth\":0,\"ticks\":\"\"}}}],\"bar\":[{\"error_x\":{\"color\":\"#2a3f5f\"},\"error_y\":{\"color\":\"#2a3f5f\"},\"marker\":{\"line\":{\"color\":\"#E5ECF6\",\"width\":0.5},\"pattern\":{\"fillmode\":\"overlay\",\"size\":10,\"solidity\":0.2}},\"type\":\"bar\"}],\"scattergeo\":[{\"type\":\"scattergeo\",\"marker\":{\"colorbar\":{\"outlinewidth\":0,\"ticks\":\"\"}}}],\"scatterpolar\":[{\"type\":\"scatterpolar\",\"marker\":{\"colorbar\":{\"outlinewidth\":0,\"ticks\":\"\"}}}],\"histogram\":[{\"marker\":{\"pattern\":{\"fillmode\":\"overlay\",\"size\":10,\"solidity\":0.2}},\"type\":\"histogram\"}],\"scattergl\":[{\"type\":\"scattergl\",\"marker\":{\"colorbar\":{\"outlinewidth\":0,\"ticks\":\"\"}}}],\"scatter3d\":[{\"type\":\"scatter3d\",\"line\":{\"colorbar\":{\"outlinewidth\":0,\"ticks\":\"\"}},\"marker\":{\"colorbar\":{\"outlinewidth\":0,\"ticks\":\"\"}}}],\"scattermapbox\":[{\"type\":\"scattermapbox\",\"marker\":{\"colorbar\":{\"outlinewidth\":0,\"ticks\":\"\"}}}],\"scatterternary\":[{\"type\":\"scatterternary\",\"marker\":{\"colorbar\":{\"outlinewidth\":0,\"ticks\":\"\"}}}],\"scattercarpet\":[{\"type\":\"scattercarpet\",\"marker\":{\"colorbar\":{\"outlinewidth\":0,\"ticks\":\"\"}}}],\"carpet\":[{\"aaxis\":{\"endlinecolor\":\"#2a3f5f\",\"gridcolor\":\"white\",\"linecolor\":\"white\",\"minorgridcolor\":\"white\",\"startlinecolor\":\"#2a3f5f\"},\"baxis\":{\"endlinecolor\":\"#2a3f5f\",\"gridcolor\":\"white\",\"linecolor\":\"white\",\"minorgridcolor\":\"white\",\"startlinecolor\":\"#2a3f5f\"},\"type\":\"carpet\"}],\"table\":[{\"cells\":{\"fill\":{\"color\":\"#EBF0F8\"},\"line\":{\"color\":\"white\"}},\"header\":{\"fill\":{\"color\":\"#C8D4E3\"},\"line\":{\"color\":\"white\"}},\"type\":\"table\"}],\"barpolar\":[{\"marker\":{\"line\":{\"color\":\"#E5ECF6\",\"width\":0.5},\"pattern\":{\"fillmode\":\"overlay\",\"size\":10,\"solidity\":0.2}},\"type\":\"barpolar\"}],\"pie\":[{\"automargin\":true,\"type\":\"pie\"}]},\"layout\":{\"autotypenumbers\":\"strict\",\"colorway\":[\"#636efa\",\"#EF553B\",\"#00cc96\",\"#ab63fa\",\"#FFA15A\",\"#19d3f3\",\"#FF6692\",\"#B6E880\",\"#FF97FF\",\"#FECB52\"],\"font\":{\"color\":\"#2a3f5f\"},\"hovermode\":\"closest\",\"hoverlabel\":{\"align\":\"left\"},\"paper_bgcolor\":\"white\",\"plot_bgcolor\":\"#E5ECF6\",\"polar\":{\"bgcolor\":\"#E5ECF6\",\"angularaxis\":{\"gridcolor\":\"white\",\"linecolor\":\"white\",\"ticks\":\"\"},\"radialaxis\":{\"gridcolor\":\"white\",\"linecolor\":\"white\",\"ticks\":\"\"}},\"ternary\":{\"bgcolor\":\"#E5ECF6\",\"aaxis\":{\"gridcolor\":\"white\",\"linecolor\":\"white\",\"ticks\":\"\"},\"baxis\":{\"gridcolor\":\"white\",\"linecolor\":\"white\",\"ticks\":\"\"},\"caxis\":{\"gridcolor\":\"white\",\"linecolor\":\"white\",\"ticks\":\"\"}},\"coloraxis\":{\"colorbar\":{\"outlinewidth\":0,\"ticks\":\"\"}},\"colorscale\":{\"sequential\":[[0.0,\"#0d0887\"],[0.1111111111111111,\"#46039f\"],[0.2222222222222222,\"#7201a8\"],[0.3333333333333333,\"#9c179e\"],[0.4444444444444444,\"#bd3786\"],[0.5555555555555556,\"#d8576b\"],[0.6666666666666666,\"#ed7953\"],[0.7777777777777778,\"#fb9f3a\"],[0.8888888888888888,\"#fdca26\"],[1.0,\"#f0f921\"]],\"sequentialminus\":[[0.0,\"#0d0887\"],[0.1111111111111111,\"#46039f\"],[0.2222222222222222,\"#7201a8\"],[0.3333333333333333,\"#9c179e\"],[0.4444444444444444,\"#bd3786\"],[0.5555555555555556,\"#d8576b\"],[0.6666666666666666,\"#ed7953\"],[0.7777777777777778,\"#fb9f3a\"],[0.8888888888888888,\"#fdca26\"],[1.0,\"#f0f921\"]],\"diverging\":[[0,\"#8e0152\"],[0.1,\"#c51b7d\"],[0.2,\"#de77ae\"],[0.3,\"#f1b6da\"],[0.4,\"#fde0ef\"],[0.5,\"#f7f7f7\"],[0.6,\"#e6f5d0\"],[0.7,\"#b8e186\"],[0.8,\"#7fbc41\"],[0.9,\"#4d9221\"],[1,\"#276419\"]]},\"xaxis\":{\"gridcolor\":\"white\",\"linecolor\":\"white\",\"ticks\":\"\",\"title\":{\"standoff\":15},\"zerolinecolor\":\"white\",\"automargin\":true,\"zerolinewidth\":2},\"yaxis\":{\"gridcolor\":\"white\",\"linecolor\":\"white\",\"ticks\":\"\",\"title\":{\"standoff\":15},\"zerolinecolor\":\"white\",\"automargin\":true,\"zerolinewidth\":2},\"scene\":{\"xaxis\":{\"backgroundcolor\":\"#E5ECF6\",\"gridcolor\":\"white\",\"linecolor\":\"white\",\"showbackground\":true,\"ticks\":\"\",\"zerolinecolor\":\"white\",\"gridwidth\":2},\"yaxis\":{\"backgroundcolor\":\"#E5ECF6\",\"gridcolor\":\"white\",\"linecolor\":\"white\",\"showbackground\":true,\"ticks\":\"\",\"zerolinecolor\":\"white\",\"gridwidth\":2},\"zaxis\":{\"backgroundcolor\":\"#E5ECF6\",\"gridcolor\":\"white\",\"linecolor\":\"white\",\"showbackground\":true,\"ticks\":\"\",\"zerolinecolor\":\"white\",\"gridwidth\":2}},\"shapedefaults\":{\"line\":{\"color\":\"#2a3f5f\"}},\"annotationdefaults\":{\"arrowcolor\":\"#2a3f5f\",\"arrowhead\":0,\"arrowwidth\":1},\"geo\":{\"bgcolor\":\"white\",\"landcolor\":\"#E5ECF6\",\"subunitcolor\":\"white\",\"showland\":true,\"showlakes\":true,\"lakecolor\":\"white\"},\"title\":{\"x\":0.05},\"mapbox\":{\"style\":\"light\"}}},\"xaxis\":{\"title\":{\"text\":\"Intervention Multiplier Constant\"}},\"yaxis\":{\"title\":{\"text\":\"COMET\"}}},                        {\"responsive\": true}                    ).then(function(){\n",
       "                            \n",
       "var gd = document.getElementById('b30b54b6-5ee8-4b9a-a070-140ef2cf13e6');\n",
       "var x = new MutationObserver(function (mutations, observer) {{\n",
       "        var display = window.getComputedStyle(gd).display;\n",
       "        if (!display || display === 'none') {{\n",
       "            console.log([gd, 'removed!']);\n",
       "            Plotly.purge(gd);\n",
       "            observer.disconnect();\n",
       "        }}\n",
       "}});\n",
       "\n",
       "// Listen for the removal of the full notebook cells\n",
       "var notebookContainer = gd.closest('#notebook-container');\n",
       "if (notebookContainer) {{\n",
       "    x.observe(notebookContainer, {childList: true});\n",
       "}}\n",
       "\n",
       "// Listen for the clearing of the current output cell\n",
       "var outputEl = gd.closest('.output');\n",
       "if (outputEl) {{\n",
       "    x.observe(outputEl, {childList: true});\n",
       "}}\n",
       "\n",
       "                        })                };                });            </script>        </div>"
      ]
     },
     "metadata": {},
     "output_type": "display_data"
    }
   ],
   "source": [
    "# COMET\n",
    "llama_sw = [0.76,0.73,0.69,0.68,0.67,0.62]\n",
    "llama_rand1 = [0.72,0.73,0.73,0.73,0.72,0.72]\n",
    "llama_rand2 = [0.73,0.73, 0.72,0.69,0.66,0.63]\n",
    "llama_rand3 = [0.73,0.73,0.72,0.71,0.7,0.68]\n",
    "llama_rand4 = [0.73,0.73,0.72,0.71,0.69,0.67]\n",
    "llama_rand5 = [0.65,0.73,0.75,0.75,0.74,0.74]\n",
    "llama_rand = [llama_rand1, llama_rand2, llama_rand3, llama_rand4, llama_rand5]\n",
    "\n",
    "qwen_sw = [0.4,0.53,0.55,0.56,0.57,0.57]\n",
    "qwen_rand1 = [0.37,0.53,0.54,0.54,0.54,0.53]\n",
    "qwen_rand2 = [0.55,0.53,0.54,0.54,0.54,0.54]\n",
    "qwen_rand3 = [0.55,0.53,0.54,0.54,0.54,0.54]\n",
    "qwen_rand4 = [0.54,0.53,0.55,0.55,0.55,0.55]\n",
    "qwen_rand5 = [0.55,0.53,0.54,0.54,0.54,0.54]\n",
    "qwen_rand = [qwen_rand1, qwen_rand2, qwen_rand3, qwen_rand4, qwen_rand5]\n",
    "\n",
    "labels = ['llama-3.2-3b-instruct_sw-points', 'llama-3.2-3b-instruct_random', 'qwen-7b-instruct_sw-points', 'qwen-7b-instruct_random']\n",
    "all_scores = [llama_sw, llama_rand, qwen_sw, qwen_rand]\n",
    "metric_name = 'COMET'\n",
    "out_path = '../figures/comet-multiplier-effects'\n",
    "visualize_scores(all_scores, labels, metric_name, out_path)\n"
   ]
  },
  {
   "cell_type": "code",
   "execution_count": 10,
   "metadata": {},
   "outputs": [
    {
     "data": {
      "application/vnd.plotly.v1+json": {
       "config": {
        "plotlyServerURL": "https://plot.ly"
       },
       "data": [
        {
         "mode": "lines+markers",
         "name": "llama-3.2-3b-instruct_sw-points",
         "type": "scatter",
         "x": [
          0,
          1,
          2,
          3,
          4,
          5
         ],
         "y": [
          0.01,
          0.02,
          0.38,
          0.47,
          0.39,
          0.31
         ]
        },
        {
         "error_y": {
          "array": [
           0.0350615458871967,
           0,
           0.0061980642139300235,
           0.01817629225117158,
           0.024004999479275143,
           0.06470969015533917
          ],
          "type": "data",
          "visible": true
         },
         "mode": "lines+markers",
         "name": "llama-3.2-3b-instruct_random",
         "type": "scatter",
         "x": [
          0,
          1,
          2,
          3,
          4,
          5
         ],
         "y": [
          0.05,
          0.02,
          0.03,
          0.046,
          0.06,
          0.09
         ]
        },
        {
         "mode": "lines+markers",
         "name": "qwen-7b-instruct_sw-points",
         "type": "scatter",
         "x": [
          0,
          1,
          2,
          3,
          4,
          5
         ],
         "y": [
          0.3,
          0.4,
          0.45,
          0.42,
          0.47,
          0.35
         ]
        },
        {
         "error_y": {
          "array": [
           0.020179435076334518,
           0,
           0.022857331427793576,
           0.007333648478076932,
           0.020556653424134964,
           0.026296159415397525
          ],
          "type": "data",
          "visible": true
         },
         "mode": "lines+markers",
         "name": "qwen-7b-instruct_random",
         "type": "scatter",
         "x": [
          0,
          1,
          2,
          3,
          4,
          5
         ],
         "y": [
          0.404,
          0.4,
          0.396,
          0.382,
          0.41,
          0.4
         ]
        }
       ],
       "layout": {
        "template": {
         "data": {
          "bar": [
           {
            "error_x": {
             "color": "#2a3f5f"
            },
            "error_y": {
             "color": "#2a3f5f"
            },
            "marker": {
             "line": {
              "color": "#E5ECF6",
              "width": 0.5
             },
             "pattern": {
              "fillmode": "overlay",
              "size": 10,
              "solidity": 0.2
             }
            },
            "type": "bar"
           }
          ],
          "barpolar": [
           {
            "marker": {
             "line": {
              "color": "#E5ECF6",
              "width": 0.5
             },
             "pattern": {
              "fillmode": "overlay",
              "size": 10,
              "solidity": 0.2
             }
            },
            "type": "barpolar"
           }
          ],
          "carpet": [
           {
            "aaxis": {
             "endlinecolor": "#2a3f5f",
             "gridcolor": "white",
             "linecolor": "white",
             "minorgridcolor": "white",
             "startlinecolor": "#2a3f5f"
            },
            "baxis": {
             "endlinecolor": "#2a3f5f",
             "gridcolor": "white",
             "linecolor": "white",
             "minorgridcolor": "white",
             "startlinecolor": "#2a3f5f"
            },
            "type": "carpet"
           }
          ],
          "choropleth": [
           {
            "colorbar": {
             "outlinewidth": 0,
             "ticks": ""
            },
            "type": "choropleth"
           }
          ],
          "contour": [
           {
            "colorbar": {
             "outlinewidth": 0,
             "ticks": ""
            },
            "colorscale": [
             [
              0,
              "#0d0887"
             ],
             [
              0.1111111111111111,
              "#46039f"
             ],
             [
              0.2222222222222222,
              "#7201a8"
             ],
             [
              0.3333333333333333,
              "#9c179e"
             ],
             [
              0.4444444444444444,
              "#bd3786"
             ],
             [
              0.5555555555555556,
              "#d8576b"
             ],
             [
              0.6666666666666666,
              "#ed7953"
             ],
             [
              0.7777777777777778,
              "#fb9f3a"
             ],
             [
              0.8888888888888888,
              "#fdca26"
             ],
             [
              1,
              "#f0f921"
             ]
            ],
            "type": "contour"
           }
          ],
          "contourcarpet": [
           {
            "colorbar": {
             "outlinewidth": 0,
             "ticks": ""
            },
            "type": "contourcarpet"
           }
          ],
          "heatmap": [
           {
            "colorbar": {
             "outlinewidth": 0,
             "ticks": ""
            },
            "colorscale": [
             [
              0,
              "#0d0887"
             ],
             [
              0.1111111111111111,
              "#46039f"
             ],
             [
              0.2222222222222222,
              "#7201a8"
             ],
             [
              0.3333333333333333,
              "#9c179e"
             ],
             [
              0.4444444444444444,
              "#bd3786"
             ],
             [
              0.5555555555555556,
              "#d8576b"
             ],
             [
              0.6666666666666666,
              "#ed7953"
             ],
             [
              0.7777777777777778,
              "#fb9f3a"
             ],
             [
              0.8888888888888888,
              "#fdca26"
             ],
             [
              1,
              "#f0f921"
             ]
            ],
            "type": "heatmap"
           }
          ],
          "heatmapgl": [
           {
            "colorbar": {
             "outlinewidth": 0,
             "ticks": ""
            },
            "colorscale": [
             [
              0,
              "#0d0887"
             ],
             [
              0.1111111111111111,
              "#46039f"
             ],
             [
              0.2222222222222222,
              "#7201a8"
             ],
             [
              0.3333333333333333,
              "#9c179e"
             ],
             [
              0.4444444444444444,
              "#bd3786"
             ],
             [
              0.5555555555555556,
              "#d8576b"
             ],
             [
              0.6666666666666666,
              "#ed7953"
             ],
             [
              0.7777777777777778,
              "#fb9f3a"
             ],
             [
              0.8888888888888888,
              "#fdca26"
             ],
             [
              1,
              "#f0f921"
             ]
            ],
            "type": "heatmapgl"
           }
          ],
          "histogram": [
           {
            "marker": {
             "pattern": {
              "fillmode": "overlay",
              "size": 10,
              "solidity": 0.2
             }
            },
            "type": "histogram"
           }
          ],
          "histogram2d": [
           {
            "colorbar": {
             "outlinewidth": 0,
             "ticks": ""
            },
            "colorscale": [
             [
              0,
              "#0d0887"
             ],
             [
              0.1111111111111111,
              "#46039f"
             ],
             [
              0.2222222222222222,
              "#7201a8"
             ],
             [
              0.3333333333333333,
              "#9c179e"
             ],
             [
              0.4444444444444444,
              "#bd3786"
             ],
             [
              0.5555555555555556,
              "#d8576b"
             ],
             [
              0.6666666666666666,
              "#ed7953"
             ],
             [
              0.7777777777777778,
              "#fb9f3a"
             ],
             [
              0.8888888888888888,
              "#fdca26"
             ],
             [
              1,
              "#f0f921"
             ]
            ],
            "type": "histogram2d"
           }
          ],
          "histogram2dcontour": [
           {
            "colorbar": {
             "outlinewidth": 0,
             "ticks": ""
            },
            "colorscale": [
             [
              0,
              "#0d0887"
             ],
             [
              0.1111111111111111,
              "#46039f"
             ],
             [
              0.2222222222222222,
              "#7201a8"
             ],
             [
              0.3333333333333333,
              "#9c179e"
             ],
             [
              0.4444444444444444,
              "#bd3786"
             ],
             [
              0.5555555555555556,
              "#d8576b"
             ],
             [
              0.6666666666666666,
              "#ed7953"
             ],
             [
              0.7777777777777778,
              "#fb9f3a"
             ],
             [
              0.8888888888888888,
              "#fdca26"
             ],
             [
              1,
              "#f0f921"
             ]
            ],
            "type": "histogram2dcontour"
           }
          ],
          "mesh3d": [
           {
            "colorbar": {
             "outlinewidth": 0,
             "ticks": ""
            },
            "type": "mesh3d"
           }
          ],
          "parcoords": [
           {
            "line": {
             "colorbar": {
              "outlinewidth": 0,
              "ticks": ""
             }
            },
            "type": "parcoords"
           }
          ],
          "pie": [
           {
            "automargin": true,
            "type": "pie"
           }
          ],
          "scatter": [
           {
            "fillpattern": {
             "fillmode": "overlay",
             "size": 10,
             "solidity": 0.2
            },
            "type": "scatter"
           }
          ],
          "scatter3d": [
           {
            "line": {
             "colorbar": {
              "outlinewidth": 0,
              "ticks": ""
             }
            },
            "marker": {
             "colorbar": {
              "outlinewidth": 0,
              "ticks": ""
             }
            },
            "type": "scatter3d"
           }
          ],
          "scattercarpet": [
           {
            "marker": {
             "colorbar": {
              "outlinewidth": 0,
              "ticks": ""
             }
            },
            "type": "scattercarpet"
           }
          ],
          "scattergeo": [
           {
            "marker": {
             "colorbar": {
              "outlinewidth": 0,
              "ticks": ""
             }
            },
            "type": "scattergeo"
           }
          ],
          "scattergl": [
           {
            "marker": {
             "colorbar": {
              "outlinewidth": 0,
              "ticks": ""
             }
            },
            "type": "scattergl"
           }
          ],
          "scattermapbox": [
           {
            "marker": {
             "colorbar": {
              "outlinewidth": 0,
              "ticks": ""
             }
            },
            "type": "scattermapbox"
           }
          ],
          "scatterpolar": [
           {
            "marker": {
             "colorbar": {
              "outlinewidth": 0,
              "ticks": ""
             }
            },
            "type": "scatterpolar"
           }
          ],
          "scatterpolargl": [
           {
            "marker": {
             "colorbar": {
              "outlinewidth": 0,
              "ticks": ""
             }
            },
            "type": "scatterpolargl"
           }
          ],
          "scatterternary": [
           {
            "marker": {
             "colorbar": {
              "outlinewidth": 0,
              "ticks": ""
             }
            },
            "type": "scatterternary"
           }
          ],
          "surface": [
           {
            "colorbar": {
             "outlinewidth": 0,
             "ticks": ""
            },
            "colorscale": [
             [
              0,
              "#0d0887"
             ],
             [
              0.1111111111111111,
              "#46039f"
             ],
             [
              0.2222222222222222,
              "#7201a8"
             ],
             [
              0.3333333333333333,
              "#9c179e"
             ],
             [
              0.4444444444444444,
              "#bd3786"
             ],
             [
              0.5555555555555556,
              "#d8576b"
             ],
             [
              0.6666666666666666,
              "#ed7953"
             ],
             [
              0.7777777777777778,
              "#fb9f3a"
             ],
             [
              0.8888888888888888,
              "#fdca26"
             ],
             [
              1,
              "#f0f921"
             ]
            ],
            "type": "surface"
           }
          ],
          "table": [
           {
            "cells": {
             "fill": {
              "color": "#EBF0F8"
             },
             "line": {
              "color": "white"
             }
            },
            "header": {
             "fill": {
              "color": "#C8D4E3"
             },
             "line": {
              "color": "white"
             }
            },
            "type": "table"
           }
          ]
         },
         "layout": {
          "annotationdefaults": {
           "arrowcolor": "#2a3f5f",
           "arrowhead": 0,
           "arrowwidth": 1
          },
          "autotypenumbers": "strict",
          "coloraxis": {
           "colorbar": {
            "outlinewidth": 0,
            "ticks": ""
           }
          },
          "colorscale": {
           "diverging": [
            [
             0,
             "#8e0152"
            ],
            [
             0.1,
             "#c51b7d"
            ],
            [
             0.2,
             "#de77ae"
            ],
            [
             0.3,
             "#f1b6da"
            ],
            [
             0.4,
             "#fde0ef"
            ],
            [
             0.5,
             "#f7f7f7"
            ],
            [
             0.6,
             "#e6f5d0"
            ],
            [
             0.7,
             "#b8e186"
            ],
            [
             0.8,
             "#7fbc41"
            ],
            [
             0.9,
             "#4d9221"
            ],
            [
             1,
             "#276419"
            ]
           ],
           "sequential": [
            [
             0,
             "#0d0887"
            ],
            [
             0.1111111111111111,
             "#46039f"
            ],
            [
             0.2222222222222222,
             "#7201a8"
            ],
            [
             0.3333333333333333,
             "#9c179e"
            ],
            [
             0.4444444444444444,
             "#bd3786"
            ],
            [
             0.5555555555555556,
             "#d8576b"
            ],
            [
             0.6666666666666666,
             "#ed7953"
            ],
            [
             0.7777777777777778,
             "#fb9f3a"
            ],
            [
             0.8888888888888888,
             "#fdca26"
            ],
            [
             1,
             "#f0f921"
            ]
           ],
           "sequentialminus": [
            [
             0,
             "#0d0887"
            ],
            [
             0.1111111111111111,
             "#46039f"
            ],
            [
             0.2222222222222222,
             "#7201a8"
            ],
            [
             0.3333333333333333,
             "#9c179e"
            ],
            [
             0.4444444444444444,
             "#bd3786"
            ],
            [
             0.5555555555555556,
             "#d8576b"
            ],
            [
             0.6666666666666666,
             "#ed7953"
            ],
            [
             0.7777777777777778,
             "#fb9f3a"
            ],
            [
             0.8888888888888888,
             "#fdca26"
            ],
            [
             1,
             "#f0f921"
            ]
           ]
          },
          "colorway": [
           "#636efa",
           "#EF553B",
           "#00cc96",
           "#ab63fa",
           "#FFA15A",
           "#19d3f3",
           "#FF6692",
           "#B6E880",
           "#FF97FF",
           "#FECB52"
          ],
          "font": {
           "color": "#2a3f5f"
          },
          "geo": {
           "bgcolor": "white",
           "lakecolor": "white",
           "landcolor": "#E5ECF6",
           "showlakes": true,
           "showland": true,
           "subunitcolor": "white"
          },
          "hoverlabel": {
           "align": "left"
          },
          "hovermode": "closest",
          "mapbox": {
           "style": "light"
          },
          "paper_bgcolor": "white",
          "plot_bgcolor": "#E5ECF6",
          "polar": {
           "angularaxis": {
            "gridcolor": "white",
            "linecolor": "white",
            "ticks": ""
           },
           "bgcolor": "#E5ECF6",
           "radialaxis": {
            "gridcolor": "white",
            "linecolor": "white",
            "ticks": ""
           }
          },
          "scene": {
           "xaxis": {
            "backgroundcolor": "#E5ECF6",
            "gridcolor": "white",
            "gridwidth": 2,
            "linecolor": "white",
            "showbackground": true,
            "ticks": "",
            "zerolinecolor": "white"
           },
           "yaxis": {
            "backgroundcolor": "#E5ECF6",
            "gridcolor": "white",
            "gridwidth": 2,
            "linecolor": "white",
            "showbackground": true,
            "ticks": "",
            "zerolinecolor": "white"
           },
           "zaxis": {
            "backgroundcolor": "#E5ECF6",
            "gridcolor": "white",
            "gridwidth": 2,
            "linecolor": "white",
            "showbackground": true,
            "ticks": "",
            "zerolinecolor": "white"
           }
          },
          "shapedefaults": {
           "line": {
            "color": "#2a3f5f"
           }
          },
          "ternary": {
           "aaxis": {
            "gridcolor": "white",
            "linecolor": "white",
            "ticks": ""
           },
           "baxis": {
            "gridcolor": "white",
            "linecolor": "white",
            "ticks": ""
           },
           "bgcolor": "#E5ECF6",
           "caxis": {
            "gridcolor": "white",
            "linecolor": "white",
            "ticks": ""
           }
          },
          "title": {
           "x": 0.05
          },
          "xaxis": {
           "automargin": true,
           "gridcolor": "white",
           "linecolor": "white",
           "ticks": "",
           "title": {
            "standoff": 15
           },
           "zerolinecolor": "white",
           "zerolinewidth": 2
          },
          "yaxis": {
           "automargin": true,
           "gridcolor": "white",
           "linecolor": "white",
           "ticks": "",
           "title": {
            "standoff": 15
           },
           "zerolinecolor": "white",
           "zerolinewidth": 2
          }
         }
        },
        "xaxis": {
         "title": {
          "text": "Intervention Multiplier Constant"
         }
        },
        "yaxis": {
         "title": {
          "text": "CS Probability"
         }
        }
       }
      },
      "text/html": [
       "<div>                            <div id=\"ba8b72fa-4ded-47cc-8108-87c1acb1f137\" class=\"plotly-graph-div\" style=\"height:525px; width:100%;\"></div>            <script type=\"text/javascript\">                require([\"plotly\"], function(Plotly) {                    window.PLOTLYENV=window.PLOTLYENV || {};                                    if (document.getElementById(\"ba8b72fa-4ded-47cc-8108-87c1acb1f137\")) {                    Plotly.newPlot(                        \"ba8b72fa-4ded-47cc-8108-87c1acb1f137\",                        [{\"mode\":\"lines+markers\",\"name\":\"llama-3.2-3b-instruct_sw-points\",\"x\":[0,1,2,3,4,5],\"y\":[0.01,0.02,0.38,0.47,0.39,0.31],\"type\":\"scatter\"},{\"error_y\":{\"array\":[0.0350615458871967,0.0,0.0061980642139300235,0.01817629225117158,0.024004999479275143,0.06470969015533917],\"type\":\"data\",\"visible\":true},\"mode\":\"lines+markers\",\"name\":\"llama-3.2-3b-instruct_random\",\"x\":[0,1,2,3,4,5],\"y\":[0.05,0.02,0.03,0.046,0.06,0.09],\"type\":\"scatter\"},{\"mode\":\"lines+markers\",\"name\":\"qwen-7b-instruct_sw-points\",\"x\":[0,1,2,3,4,5],\"y\":[0.3,0.4,0.45,0.42,0.47,0.35],\"type\":\"scatter\"},{\"error_y\":{\"array\":[0.020179435076334518,0.0,0.022857331427793576,0.007333648478076932,0.020556653424134964,0.026296159415397525],\"type\":\"data\",\"visible\":true},\"mode\":\"lines+markers\",\"name\":\"qwen-7b-instruct_random\",\"x\":[0,1,2,3,4,5],\"y\":[0.404,0.4,0.396,0.382,0.41,0.4],\"type\":\"scatter\"}],                        {\"template\":{\"data\":{\"histogram2dcontour\":[{\"type\":\"histogram2dcontour\",\"colorbar\":{\"outlinewidth\":0,\"ticks\":\"\"},\"colorscale\":[[0.0,\"#0d0887\"],[0.1111111111111111,\"#46039f\"],[0.2222222222222222,\"#7201a8\"],[0.3333333333333333,\"#9c179e\"],[0.4444444444444444,\"#bd3786\"],[0.5555555555555556,\"#d8576b\"],[0.6666666666666666,\"#ed7953\"],[0.7777777777777778,\"#fb9f3a\"],[0.8888888888888888,\"#fdca26\"],[1.0,\"#f0f921\"]]}],\"choropleth\":[{\"type\":\"choropleth\",\"colorbar\":{\"outlinewidth\":0,\"ticks\":\"\"}}],\"histogram2d\":[{\"type\":\"histogram2d\",\"colorbar\":{\"outlinewidth\":0,\"ticks\":\"\"},\"colorscale\":[[0.0,\"#0d0887\"],[0.1111111111111111,\"#46039f\"],[0.2222222222222222,\"#7201a8\"],[0.3333333333333333,\"#9c179e\"],[0.4444444444444444,\"#bd3786\"],[0.5555555555555556,\"#d8576b\"],[0.6666666666666666,\"#ed7953\"],[0.7777777777777778,\"#fb9f3a\"],[0.8888888888888888,\"#fdca26\"],[1.0,\"#f0f921\"]]}],\"heatmap\":[{\"type\":\"heatmap\",\"colorbar\":{\"outlinewidth\":0,\"ticks\":\"\"},\"colorscale\":[[0.0,\"#0d0887\"],[0.1111111111111111,\"#46039f\"],[0.2222222222222222,\"#7201a8\"],[0.3333333333333333,\"#9c179e\"],[0.4444444444444444,\"#bd3786\"],[0.5555555555555556,\"#d8576b\"],[0.6666666666666666,\"#ed7953\"],[0.7777777777777778,\"#fb9f3a\"],[0.8888888888888888,\"#fdca26\"],[1.0,\"#f0f921\"]]}],\"heatmapgl\":[{\"type\":\"heatmapgl\",\"colorbar\":{\"outlinewidth\":0,\"ticks\":\"\"},\"colorscale\":[[0.0,\"#0d0887\"],[0.1111111111111111,\"#46039f\"],[0.2222222222222222,\"#7201a8\"],[0.3333333333333333,\"#9c179e\"],[0.4444444444444444,\"#bd3786\"],[0.5555555555555556,\"#d8576b\"],[0.6666666666666666,\"#ed7953\"],[0.7777777777777778,\"#fb9f3a\"],[0.8888888888888888,\"#fdca26\"],[1.0,\"#f0f921\"]]}],\"contourcarpet\":[{\"type\":\"contourcarpet\",\"colorbar\":{\"outlinewidth\":0,\"ticks\":\"\"}}],\"contour\":[{\"type\":\"contour\",\"colorbar\":{\"outlinewidth\":0,\"ticks\":\"\"},\"colorscale\":[[0.0,\"#0d0887\"],[0.1111111111111111,\"#46039f\"],[0.2222222222222222,\"#7201a8\"],[0.3333333333333333,\"#9c179e\"],[0.4444444444444444,\"#bd3786\"],[0.5555555555555556,\"#d8576b\"],[0.6666666666666666,\"#ed7953\"],[0.7777777777777778,\"#fb9f3a\"],[0.8888888888888888,\"#fdca26\"],[1.0,\"#f0f921\"]]}],\"surface\":[{\"type\":\"surface\",\"colorbar\":{\"outlinewidth\":0,\"ticks\":\"\"},\"colorscale\":[[0.0,\"#0d0887\"],[0.1111111111111111,\"#46039f\"],[0.2222222222222222,\"#7201a8\"],[0.3333333333333333,\"#9c179e\"],[0.4444444444444444,\"#bd3786\"],[0.5555555555555556,\"#d8576b\"],[0.6666666666666666,\"#ed7953\"],[0.7777777777777778,\"#fb9f3a\"],[0.8888888888888888,\"#fdca26\"],[1.0,\"#f0f921\"]]}],\"mesh3d\":[{\"type\":\"mesh3d\",\"colorbar\":{\"outlinewidth\":0,\"ticks\":\"\"}}],\"scatter\":[{\"fillpattern\":{\"fillmode\":\"overlay\",\"size\":10,\"solidity\":0.2},\"type\":\"scatter\"}],\"parcoords\":[{\"type\":\"parcoords\",\"line\":{\"colorbar\":{\"outlinewidth\":0,\"ticks\":\"\"}}}],\"scatterpolargl\":[{\"type\":\"scatterpolargl\",\"marker\":{\"colorbar\":{\"outlinewidth\":0,\"ticks\":\"\"}}}],\"bar\":[{\"error_x\":{\"color\":\"#2a3f5f\"},\"error_y\":{\"color\":\"#2a3f5f\"},\"marker\":{\"line\":{\"color\":\"#E5ECF6\",\"width\":0.5},\"pattern\":{\"fillmode\":\"overlay\",\"size\":10,\"solidity\":0.2}},\"type\":\"bar\"}],\"scattergeo\":[{\"type\":\"scattergeo\",\"marker\":{\"colorbar\":{\"outlinewidth\":0,\"ticks\":\"\"}}}],\"scatterpolar\":[{\"type\":\"scatterpolar\",\"marker\":{\"colorbar\":{\"outlinewidth\":0,\"ticks\":\"\"}}}],\"histogram\":[{\"marker\":{\"pattern\":{\"fillmode\":\"overlay\",\"size\":10,\"solidity\":0.2}},\"type\":\"histogram\"}],\"scattergl\":[{\"type\":\"scattergl\",\"marker\":{\"colorbar\":{\"outlinewidth\":0,\"ticks\":\"\"}}}],\"scatter3d\":[{\"type\":\"scatter3d\",\"line\":{\"colorbar\":{\"outlinewidth\":0,\"ticks\":\"\"}},\"marker\":{\"colorbar\":{\"outlinewidth\":0,\"ticks\":\"\"}}}],\"scattermapbox\":[{\"type\":\"scattermapbox\",\"marker\":{\"colorbar\":{\"outlinewidth\":0,\"ticks\":\"\"}}}],\"scatterternary\":[{\"type\":\"scatterternary\",\"marker\":{\"colorbar\":{\"outlinewidth\":0,\"ticks\":\"\"}}}],\"scattercarpet\":[{\"type\":\"scattercarpet\",\"marker\":{\"colorbar\":{\"outlinewidth\":0,\"ticks\":\"\"}}}],\"carpet\":[{\"aaxis\":{\"endlinecolor\":\"#2a3f5f\",\"gridcolor\":\"white\",\"linecolor\":\"white\",\"minorgridcolor\":\"white\",\"startlinecolor\":\"#2a3f5f\"},\"baxis\":{\"endlinecolor\":\"#2a3f5f\",\"gridcolor\":\"white\",\"linecolor\":\"white\",\"minorgridcolor\":\"white\",\"startlinecolor\":\"#2a3f5f\"},\"type\":\"carpet\"}],\"table\":[{\"cells\":{\"fill\":{\"color\":\"#EBF0F8\"},\"line\":{\"color\":\"white\"}},\"header\":{\"fill\":{\"color\":\"#C8D4E3\"},\"line\":{\"color\":\"white\"}},\"type\":\"table\"}],\"barpolar\":[{\"marker\":{\"line\":{\"color\":\"#E5ECF6\",\"width\":0.5},\"pattern\":{\"fillmode\":\"overlay\",\"size\":10,\"solidity\":0.2}},\"type\":\"barpolar\"}],\"pie\":[{\"automargin\":true,\"type\":\"pie\"}]},\"layout\":{\"autotypenumbers\":\"strict\",\"colorway\":[\"#636efa\",\"#EF553B\",\"#00cc96\",\"#ab63fa\",\"#FFA15A\",\"#19d3f3\",\"#FF6692\",\"#B6E880\",\"#FF97FF\",\"#FECB52\"],\"font\":{\"color\":\"#2a3f5f\"},\"hovermode\":\"closest\",\"hoverlabel\":{\"align\":\"left\"},\"paper_bgcolor\":\"white\",\"plot_bgcolor\":\"#E5ECF6\",\"polar\":{\"bgcolor\":\"#E5ECF6\",\"angularaxis\":{\"gridcolor\":\"white\",\"linecolor\":\"white\",\"ticks\":\"\"},\"radialaxis\":{\"gridcolor\":\"white\",\"linecolor\":\"white\",\"ticks\":\"\"}},\"ternary\":{\"bgcolor\":\"#E5ECF6\",\"aaxis\":{\"gridcolor\":\"white\",\"linecolor\":\"white\",\"ticks\":\"\"},\"baxis\":{\"gridcolor\":\"white\",\"linecolor\":\"white\",\"ticks\":\"\"},\"caxis\":{\"gridcolor\":\"white\",\"linecolor\":\"white\",\"ticks\":\"\"}},\"coloraxis\":{\"colorbar\":{\"outlinewidth\":0,\"ticks\":\"\"}},\"colorscale\":{\"sequential\":[[0.0,\"#0d0887\"],[0.1111111111111111,\"#46039f\"],[0.2222222222222222,\"#7201a8\"],[0.3333333333333333,\"#9c179e\"],[0.4444444444444444,\"#bd3786\"],[0.5555555555555556,\"#d8576b\"],[0.6666666666666666,\"#ed7953\"],[0.7777777777777778,\"#fb9f3a\"],[0.8888888888888888,\"#fdca26\"],[1.0,\"#f0f921\"]],\"sequentialminus\":[[0.0,\"#0d0887\"],[0.1111111111111111,\"#46039f\"],[0.2222222222222222,\"#7201a8\"],[0.3333333333333333,\"#9c179e\"],[0.4444444444444444,\"#bd3786\"],[0.5555555555555556,\"#d8576b\"],[0.6666666666666666,\"#ed7953\"],[0.7777777777777778,\"#fb9f3a\"],[0.8888888888888888,\"#fdca26\"],[1.0,\"#f0f921\"]],\"diverging\":[[0,\"#8e0152\"],[0.1,\"#c51b7d\"],[0.2,\"#de77ae\"],[0.3,\"#f1b6da\"],[0.4,\"#fde0ef\"],[0.5,\"#f7f7f7\"],[0.6,\"#e6f5d0\"],[0.7,\"#b8e186\"],[0.8,\"#7fbc41\"],[0.9,\"#4d9221\"],[1,\"#276419\"]]},\"xaxis\":{\"gridcolor\":\"white\",\"linecolor\":\"white\",\"ticks\":\"\",\"title\":{\"standoff\":15},\"zerolinecolor\":\"white\",\"automargin\":true,\"zerolinewidth\":2},\"yaxis\":{\"gridcolor\":\"white\",\"linecolor\":\"white\",\"ticks\":\"\",\"title\":{\"standoff\":15},\"zerolinecolor\":\"white\",\"automargin\":true,\"zerolinewidth\":2},\"scene\":{\"xaxis\":{\"backgroundcolor\":\"#E5ECF6\",\"gridcolor\":\"white\",\"linecolor\":\"white\",\"showbackground\":true,\"ticks\":\"\",\"zerolinecolor\":\"white\",\"gridwidth\":2},\"yaxis\":{\"backgroundcolor\":\"#E5ECF6\",\"gridcolor\":\"white\",\"linecolor\":\"white\",\"showbackground\":true,\"ticks\":\"\",\"zerolinecolor\":\"white\",\"gridwidth\":2},\"zaxis\":{\"backgroundcolor\":\"#E5ECF6\",\"gridcolor\":\"white\",\"linecolor\":\"white\",\"showbackground\":true,\"ticks\":\"\",\"zerolinecolor\":\"white\",\"gridwidth\":2}},\"shapedefaults\":{\"line\":{\"color\":\"#2a3f5f\"}},\"annotationdefaults\":{\"arrowcolor\":\"#2a3f5f\",\"arrowhead\":0,\"arrowwidth\":1},\"geo\":{\"bgcolor\":\"white\",\"landcolor\":\"#E5ECF6\",\"subunitcolor\":\"white\",\"showland\":true,\"showlakes\":true,\"lakecolor\":\"white\"},\"title\":{\"x\":0.05},\"mapbox\":{\"style\":\"light\"}}},\"xaxis\":{\"title\":{\"text\":\"Intervention Multiplier Constant\"}},\"yaxis\":{\"title\":{\"text\":\"CS Probability\"}}},                        {\"responsive\": true}                    ).then(function(){\n",
       "                            \n",
       "var gd = document.getElementById('ba8b72fa-4ded-47cc-8108-87c1acb1f137');\n",
       "var x = new MutationObserver(function (mutations, observer) {{\n",
       "        var display = window.getComputedStyle(gd).display;\n",
       "        if (!display || display === 'none') {{\n",
       "            console.log([gd, 'removed!']);\n",
       "            Plotly.purge(gd);\n",
       "            observer.disconnect();\n",
       "        }}\n",
       "}});\n",
       "\n",
       "// Listen for the removal of the full notebook cells\n",
       "var notebookContainer = gd.closest('#notebook-container');\n",
       "if (notebookContainer) {{\n",
       "    x.observe(notebookContainer, {childList: true});\n",
       "}}\n",
       "\n",
       "// Listen for the clearing of the current output cell\n",
       "var outputEl = gd.closest('.output');\n",
       "if (outputEl) {{\n",
       "    x.observe(outputEl, {childList: true});\n",
       "}}\n",
       "\n",
       "                        })                };                });            </script>        </div>"
      ]
     },
     "metadata": {},
     "output_type": "display_data"
    }
   ],
   "source": [
    "# CS Proba\n",
    "llama_sw = [0.01,0.02,0.38,0.47,0.39,0.31]\n",
    "llama_rand1 = [0.04,0.02,0.03,0.02,0.03,0.05]\n",
    "llama_rand2 = [0.03,0.02,0.03,0.07,0.1,0.22]\n",
    "llama_rand3 = [0.04,0.02,0.04,0.06,0.07,0.05]\n",
    "llama_rand4 = [0.02,0.02,0.03,0.05,0.06,0.08]\n",
    "llama_rand5 = [0.12,0.02,0.02,0.03,0.04,0.05]\n",
    "llama_rand = [llama_rand1, llama_rand2, llama_rand3, llama_rand4, llama_rand5]\n",
    "\n",
    "qwen_sw = [0.3,0.40,0.45,0.42,0.47,0.35]\n",
    "qwen_rand1 = [0.4,0.4,0.37,0.38,0.4,0.37]\n",
    "qwen_rand2 = [0.4,0.4,0.39,0.38,0.4,0.37]\n",
    "qwen_rand3 = [0.42,0.4,0.44,0.39,0.39,0.4]\n",
    "qwen_rand4 = [0.43,0.4,0.39,0.37,0.41,0.43]\n",
    "qwen_rand5 = [0.37,0.4,0.39,0.39,0.45,0.43]\n",
    "qwen_rand = [qwen_rand1, qwen_rand2, qwen_rand3, qwen_rand4, qwen_rand5]\n",
    "\n",
    "labels = ['llama-3.2-3b-instruct_sw-points', 'llama-3.2-3b-instruct_random', 'qwen-7b-instruct_sw-points', 'qwen-7b-instruct_random']\n",
    "all_scores = [llama_sw, llama_rand, qwen_sw, qwen_rand]\n",
    "metric_name = 'CS Probability'\n",
    "out_path = '../figures/cs-proba-multiplier-effects'\n",
    "visualize_scores(all_scores, labels, metric_name, out_path)\n"
   ]
  },
  {
   "cell_type": "code",
   "execution_count": 4,
   "metadata": {},
   "outputs": [],
   "source": [
    "import numpy as np\n",
    "import scipy.stats as stats\n",
    "from sklearn.linear_model import LinearRegression\n",
    "def get_corr(all_var1_scores, all_var2_scores, x_title, y_title, out_path):\n",
    "    agg_var1 = []\n",
    "    agg_var2 = []\n",
    "    for var1_scores, var2_scores in zip(all_var1_scores, all_var2_scores):\n",
    "        var1_scores = var1_scores[1:]\n",
    "        var1_scores_diff = []\n",
    "        for idx, ele in enumerate(var1_scores):\n",
    "            if idx==0:\n",
    "                continue\n",
    "            var1_scores_diff.append(var1_scores[idx]-var1_scores[0])\n",
    "        \n",
    "        agg_var1.extend(var1_scores_diff)\n",
    "        agg_var2.extend(var2_scores)\n",
    "        assert len(agg_var1) == len (agg_var2)\n",
    "    agg_var1 = np.array(agg_var1)\n",
    "    agg_var2 = np.array(agg_var2)\n",
    "    print(agg_var1)\n",
    "    print(agg_var2)\n",
    "    correlation, p_value = stats.spearmanr(agg_var2, agg_var1)\n",
    "    print(f\"Spearman Rho Coefficient: {correlation:.4f}\")\n",
    "    print(f\"P-value: {p_value:.4f}\")\n",
    "\n",
    "    \n",
    "    "
   ]
  },
  {
   "cell_type": "code",
   "execution_count": 24,
   "metadata": {},
   "outputs": [
    {
     "name": "stdout",
     "output_type": "stream",
     "text": [
      "[-0.04 -0.05 -0.06 -0.11  0.    0.   -0.01 -0.01 -0.01 -0.04 -0.07 -0.1\n",
      " -0.01 -0.02 -0.03 -0.05 -0.01 -0.02 -0.04 -0.06  0.02  0.02  0.01  0.01]\n",
      "[0.34 0.45 0.5  0.62 0.01 0.04 0.08 0.14 0.02 0.07 0.16 0.3  0.01 0.04\n",
      " 0.08 0.14 0.01 0.05 0.12 0.23 0.03 0.07 0.11 0.13]\n",
      "Spearman Rho Coefficient: -0.7015\n",
      "P-value: 0.0001\n"
     ]
    }
   ],
   "source": [
    "# JS Divergence Llama vs BLEU\n",
    "\n",
    "llama_sw = [0.76,0.73,0.69,0.68,0.67,0.62]\n",
    "llama_rand1 = [0.72,0.73,0.73,0.73,0.72,0.72]\n",
    "llama_rand2 = [0.73,0.73, 0.72,0.69,0.66,0.63]\n",
    "llama_rand3 = [0.73,0.73,0.72,0.71,0.7,0.68]\n",
    "llama_rand4 = [0.73,0.73,0.72,0.71,0.69,0.67]\n",
    "llama_rand5 = [0.65,0.73,0.75,0.75,0.74,0.74]\n",
    "llama_comet = [llama_sw, llama_rand1, llama_rand2, llama_rand3, llama_rand4, llama_rand5]\n",
    "x_title = 'JS Divergence with Clean Output (0-1)'\n",
    "y_title = 'BLEU Difference(-1 - 1)'\n",
    "out_path = '../figures/llama-js-div-bleu'\n",
    "get_corr(llama_comet, js_div_llama, x_title, y_title, out_path)\n"
   ]
  },
  {
   "cell_type": "code",
   "execution_count": 6,
   "metadata": {},
   "outputs": [
    {
     "name": "stdout",
     "output_type": "stream",
     "text": [
      "[-0.21  -0.209 -0.21  -0.209 -0.002 -0.005 -0.012 -0.014 -0.011 -0.043\n",
      " -0.086 -0.014 -0.004 -0.011 -0.03  -0.046 -0.008 -0.014 -0.032 -0.05\n",
      "  0.015  0.009  0.005  0.003]\n",
      "[0.34 0.45 0.5  0.62 0.01 0.04 0.08 0.14 0.02 0.07 0.16 0.3  0.01 0.04\n",
      " 0.08 0.14 0.01 0.05 0.12 0.23 0.03 0.07 0.11 0.13]\n",
      "Spearman Rho Coefficient: -0.7505\n",
      "P-value: 0.0000\n"
     ]
    }
   ],
   "source": [
    "# JS Divergence Llama vs COMET\n",
    "\n",
    "js_div_llama_sw_point = [0.34, 0.45, 0.50, 0.62]\n",
    "js_div_llama_rand1 = [0.01,0.04,0.08,0.14]\n",
    "js_div_llama_rand2 = [0.02,0.07,0.16,0.30]\n",
    "js_div_llama_rand3 = [0.01,0.04,0.08,0.14]\n",
    "js_div_llama_rand4 = [0.01,0.05,0.12,0.23]\n",
    "js_div_llama_rand5 = [0.03,0.07,0.11,0.13]\n",
    "js_div_llama = [js_div_llama_sw_point, js_div_llama_rand1, js_div_llama_rand2, js_div_llama_rand3, js_div_llama_rand4, js_div_llama_rand5]\n",
    "\n",
    "llama_sw = [0.266, 0.255, 0.045, 0.046, 0.045, 0.046]\n",
    "llama_rand1 = [0.253, 0.255, 0.253,0.250, 0.243, 0.241]\n",
    "llama_rand2 = [0.259, 0.255, 0.244, 0.212, 0.169, 0.241]\n",
    "llama_rand3 = [0.250, 0.255, 0.251, 0.244, 0.225, 0.209]\n",
    "llama_rand4 = [0.253, 0.255, 0.247, 0.241, 0.223, 0.205]\n",
    "llama_rand5 = [0.182, 0.255, 0.270, 0.264, 0.260, 0.258]\n",
    "llama_bleu = [llama_sw, llama_rand1, llama_rand2, llama_rand3, llama_rand4, llama_rand5]\n",
    "x_title = 'JS Divergence with Clean Output (0-1)'\n",
    "y_title = 'BLEU Difference(-1 - 1)'\n",
    "out_path = '../figures/llama-js-div-bleu'\n",
    "get_corr(llama_bleu, js_div_llama, x_title, y_title, out_path)\n"
   ]
  },
  {
   "cell_type": "code",
   "execution_count": 25,
   "metadata": {},
   "outputs": [
    {
     "name": "stdout",
     "output_type": "stream",
     "text": [
      "[0.36 0.45 0.37 0.29 0.01 0.   0.01 0.03 0.01 0.05 0.08 0.2  0.02 0.04\n",
      " 0.05 0.03 0.01 0.03 0.04 0.06 0.   0.01 0.02 0.03]\n",
      "[0.34 0.45 0.5  0.62 0.01 0.04 0.08 0.14 0.02 0.07 0.16 0.3  0.01 0.04\n",
      " 0.08 0.14 0.01 0.05 0.12 0.23 0.03 0.07 0.11 0.13]\n",
      "Spearman Rho Coefficient: 0.8201\n",
      "P-value: 0.0000\n"
     ]
    }
   ],
   "source": [
    "# JS Divergence Llama vs  CS Proba\n",
    "\n",
    "\n",
    "llama_sw = [0.01,0.02,0.38,0.47,0.39,0.31]\n",
    "llama_rand1 = [0.04,0.02,0.03,0.02,0.03,0.05]\n",
    "llama_rand2 = [0.03,0.02,0.03,0.07,0.1,0.22]\n",
    "llama_rand3 = [0.04,0.02,0.04,0.06,0.07,0.05]\n",
    "llama_rand4 = [0.02,0.02,0.03,0.05,0.06,0.08]\n",
    "llama_rand5 = [0.12,0.02,0.02,0.03,0.04,0.05]\n",
    "llama_proba = [llama_sw, llama_rand1, llama_rand2, llama_rand3, llama_rand4, llama_rand5]\n",
    "x_title = 'JS Divergence with Clean Output (0-1)'\n",
    "y_title = 'BLEU Difference(-1 - 1)'\n",
    "out_path = '../figures/llama-js-div-bleu'\n",
    "get_corr(llama_proba, js_div_llama, x_title, y_title, out_path)\n"
   ]
  },
  {
   "cell_type": "code",
   "execution_count": 5,
   "metadata": {},
   "outputs": [
    {
     "name": "stdout",
     "output_type": "stream",
     "text": [
      "[ 0.    -0.06  -0.022 -0.022  0.    -0.005 -0.002 -0.004 -0.002 -0.001\n",
      "  0.003  0.004 -0.001 -0.006 -0.006 -0.009 -0.002 -0.001 -0.001  0.\n",
      "  0.003 -0.004  0.     0.   ]\n",
      "[0.07  0.29  0.51  0.61  0.01  0.05  0.13  0.24  0.005 0.02  0.048 0.094\n",
      " 0.009 0.038 0.091 0.168 0.004 0.015 0.03  0.046 0.008 0.025 0.045 0.067]\n",
      "Spearman Rho Coefficient: -0.4432\n",
      "P-value: 0.0301\n"
     ]
    }
   ],
   "source": [
    "# JS Divergence Qwen vs  BLEU\n",
    "js_div_qwen_sw_point = [0.07, 0.29, 0.51, 0.61]\n",
    "js_div_qwen_rand1 = [0.01,0.05,0.13,0.24]\n",
    "js_div_qwen_rand2 = [0.005,0.020,0.048,0.094]\n",
    "js_div_qwen_rand3 = [0.009,0.038,0.091,0.168]\n",
    "js_div_qwen_rand4 = [0.004,0.015,0.030,0.046]\n",
    "js_div_qwen_rand5 = [0.008,0.025,0.045,0.067]\n",
    "js_div_qwen = [js_div_qwen_sw_point, js_div_qwen_rand1, js_div_qwen_rand2, js_div_qwen_rand3, js_div_qwen_rand4, js_div_qwen_rand5]\n",
    "\n",
    "qwen_sw = [0.011, 0.064, 0.064, 0.004, 0.042, 0.042]\n",
    "qwen_rand1 = [0.003, 0.064, 0.064,0.059, 0.062, 0.060]\n",
    "qwen_rand2 = [0.062, 0.064, 0.062, 0.063, 0.067, 0.068]\n",
    "qwen_rand3 = [0.061, 0.064, 0.063, 0.058, 0.058, 0.055]\n",
    "qwen_rand4 = [0.063, 0.064, 0.062, 0.063, 0.063, 0.064]\n",
    "qwen_rand5 = [0.063, 0.064, 0.067, 0.060, 0.064, 0.064]\n",
    "qwen_bleu = [qwen_sw, qwen_rand1, qwen_rand2, qwen_rand3, qwen_rand4, qwen_rand5]\n",
    "\n",
    "x_title = 'JS Divergence with Clean Output (0-1)'\n",
    "y_title = 'BLEU Difference(-1 - 1)'\n",
    "out_path = '../figures/llama-js-div-bleu'\n",
    "get_corr(qwen_bleu, js_div_qwen, x_title, y_title, out_path)"
   ]
  },
  {
   "cell_type": "code",
   "execution_count": null,
   "metadata": {},
   "outputs": [],
   "source": [
    "qwen_sw = [0.011, 0.064, 0.064, 0.004, 0.042, 0.042]\n",
    "qwen_rand1 = [0.003, 0.064, 0.064,0.059, 0.062, 0.060]\n",
    "qwen_rand2 = [0.062, 0.064, 0.062, 0.063, 0.067, 0.068]\n",
    "qwen_rand3 = [0.061, 0.064, 0.063, 0.058, 0.058, 0.055]\n",
    "qwen_rand4 = [0.063, 0.064, 0.062, 0.063, 0.063, 0.064]\n",
    "qwen_rand5 = [0.063, 0.064, 0.067, 0.060, 0.064, 0.064]\n",
    "qwen_bleu = [qwen_sw, qwen_rand1, qwen_rand2, qwen_rand3, qwen_rand4, qwen_rand5]\n",
    "\n",
    "x_title = 'JS Divergence with Clean Output (0-1)'\n",
    "y_title = 'BLEU Difference(-1 - 1)'\n",
    "out_path = '../figures/llama-js-div-bleu'\n",
    "get_corr(qwen_bleu, js_div_qwen, x_title, y_title, out_path)"
   ]
  },
  {
   "cell_type": "code",
   "execution_count": 27,
   "metadata": {},
   "outputs": [
    {
     "name": "stdout",
     "output_type": "stream",
     "text": [
      "[0.01 0.01 0.01 0.   0.01 0.01 0.01 0.01 0.01 0.01 0.01 0.01 0.02 0.02\n",
      " 0.02 0.02 0.01 0.01 0.01 0.01]\n",
      "[0.07  0.29  0.51  0.61  0.01  0.05  0.13  0.24  0.01  0.02  0.05  0.09\n",
      " 0.01  0.04  0.09  0.17  0.004 0.01  0.03  0.05 ]\n",
      "Spearman Rho Coefficient: -0.1711\n",
      "P-value: 0.4709\n"
     ]
    }
   ],
   "source": [
    "qwen_sw = [0.4,0.53,0.55,0.56,0.57,0.57]\n",
    "qwen_rand1 = [0.37,0.53,0.54,0.54,0.54,0.53]\n",
    "qwen_rand2 = [0.55,0.53,0.54,0.54,0.54,0.54]\n",
    "qwen_rand3 = [0.55,0.53,0.54,0.54,0.54,0.54]\n",
    "qwen_rand4 = [0.54,0.53,0.55,0.55,0.55,0.55]\n",
    "qwen_rand5 = [0.55,0.53,0.54,0.54,0.54,0.54]\n",
    "qwen_comet = [qwen_rand1, qwen_rand2, qwen_rand3, qwen_rand4, qwen_rand5]\n",
    "\n",
    "x_title = 'JS Divergence with Clean Output (0-1)'\n",
    "y_title = 'BLEU Difference(-1 - 1)'\n",
    "out_path = '../figures/llama-js-div-bleu'\n",
    "get_corr(qwen_comet, js_div_qwen, x_title, y_title, out_path)"
   ]
  },
  {
   "cell_type": "code",
   "execution_count": 31,
   "metadata": {},
   "outputs": [
    {
     "name": "stdout",
     "output_type": "stream",
     "text": [
      "[0.02 0.03 0.04 0.04 0.01 0.01 0.01 0.   0.01 0.01 0.01 0.01 0.01 0.01\n",
      " 0.01 0.01 0.02 0.02 0.02 0.02 0.01 0.01 0.01 0.01]\n",
      "[0.07  0.29  0.51  0.61  0.01  0.05  0.13  0.24  0.005 0.02  0.048 0.094\n",
      " 0.009 0.038 0.091 0.168 0.004 0.015 0.03  0.046 0.008 0.025 0.045 0.067]\n",
      "Spearman Rho Coefficient: 0.1906\n",
      "P-value: 0.3723\n"
     ]
    }
   ],
   "source": [
    "qwen_sw = [0.4,0.53,0.55,0.56,0.57,0.57]\n",
    "qwen_rand1 = [0.37,0.53,0.54,0.54,0.54,0.53]\n",
    "qwen_rand2 = [0.55,0.53,0.54,0.54,0.54,0.54]\n",
    "qwen_rand3 = [0.55,0.53,0.54,0.54,0.54,0.54]\n",
    "qwen_rand4 = [0.54,0.53,0.55,0.55,0.55,0.55]\n",
    "qwen_rand5 = [0.55,0.53,0.54,0.54,0.54,0.54]\n",
    "qwen_comet = [qwen_sw, qwen_rand1, qwen_rand2, qwen_rand3, qwen_rand4, qwen_rand5]\n",
    "\n",
    "x_title = 'JS Divergence with Clean Output (0-1)'\n",
    "y_title = 'BLEU Difference(-1 - 1)'\n",
    "out_path = '../figures/llama-js-div-bleu'\n",
    "get_corr(qwen_comet, js_div_qwen, x_title, y_title, out_path)"
   ]
  },
  {
   "cell_type": "code",
   "execution_count": 32,
   "metadata": {},
   "outputs": [
    {
     "name": "stdout",
     "output_type": "stream",
     "text": [
      "[ 0.05  0.02  0.07 -0.05 -0.03 -0.02  0.   -0.03 -0.01 -0.02  0.   -0.03\n",
      "  0.04 -0.01 -0.01  0.   -0.01 -0.03  0.01  0.03 -0.01 -0.01  0.05  0.03]\n",
      "[0.07  0.29  0.51  0.61  0.01  0.05  0.13  0.24  0.005 0.02  0.048 0.094\n",
      " 0.009 0.038 0.091 0.168 0.004 0.015 0.03  0.046 0.008 0.025 0.045 0.067]\n",
      "Spearman Rho Coefficient: 0.1011\n",
      "P-value: 0.6381\n"
     ]
    }
   ],
   "source": [
    "qwen_sw = [0.3,0.40,0.45,0.42,0.47,0.35]\n",
    "qwen_rand1 = [0.4,0.4,0.37,0.38,0.4,0.37]\n",
    "qwen_rand2 = [0.4,0.4,0.39,0.38,0.4,0.37]\n",
    "qwen_rand3 = [0.42,0.4,0.44,0.39,0.39,0.4]\n",
    "qwen_rand4 = [0.43,0.4,0.39,0.37,0.41,0.43]\n",
    "qwen_rand5 = [0.37,0.4,0.39,0.39,0.45,0.43]\n",
    "qwen_proba = [qwen_sw, qwen_rand1, qwen_rand2, qwen_rand3, qwen_rand4, qwen_rand5]\n",
    "\n",
    "x_title = 'JS Divergence with Clean Output (0-1)'\n",
    "y_title = 'BLEU Difference(-1 - 1)'\n",
    "out_path = '../figures/llama-js-div-bleu'\n",
    "get_corr(qwen_proba, js_div_qwen, x_title, y_title, out_path)"
   ]
  },
  {
   "cell_type": "code",
   "execution_count": 7,
   "metadata": {},
   "outputs": [
    {
     "name": "stdout",
     "output_type": "stream",
     "text": [
      "[-0.21  -0.209 -0.21  -0.209 -0.002 -0.005 -0.012 -0.014 -0.011 -0.043\n",
      " -0.086 -0.014 -0.004 -0.011 -0.03  -0.046 -0.008 -0.014 -0.032 -0.05\n",
      "  0.015  0.009  0.005  0.003]\n",
      "[ 3.280e+00  5.510e+00  7.340e+00  1.239e+01  1.200e-01  5.900e-01\n",
      "  1.360e+00  2.310e+00  5.200e-01  1.340e+00  2.630e+00  4.750e+00\n",
      "  1.400e-01  5.300e-01  1.110e+00  1.870e+00 -1.000e-02  3.300e-01\n",
      "  1.110e+00  2.750e+00 -1.800e-01  2.200e-02  1.070e-01  8.950e-01]\n",
      "Spearman Rho Coefficient: -0.8759\n",
      "P-value: 0.0000\n"
     ]
    }
   ],
   "source": [
    "# Ent Diff Llama vs BLEU\n",
    "entropy_llama_sw_point = [3.28, 5.51, 7.34, 12.39]\n",
    "entropy_llama_rand1 = [0.12,0.59,1.36,2.31]\n",
    "entropy_llama_rand2 = [0.52,1.34,2.63,4.75]\n",
    "entropy_llama_rand3 = [0.14,0.53,1.11,1.87]\n",
    "entropy_llama_rand4 = [-0.01,0.33,1.11,2.75]\n",
    "entropy_llama_rand5 = [-0.18,0.022,0.107,0.895]\n",
    "entropy_llama = [entropy_llama_sw_point, entropy_llama_rand1, entropy_llama_rand2, entropy_llama_rand3, entropy_llama_rand4, entropy_llama_rand5]\n",
    "\n",
    "llama_sw = [0.266, 0.255, 0.045, 0.046, 0.045, 0.046]\n",
    "llama_rand1 = [0.253, 0.255, 0.253,0.250, 0.243, 0.241]\n",
    "llama_rand2 = [0.259, 0.255, 0.244, 0.212, 0.169, 0.241]\n",
    "llama_rand3 = [0.250, 0.255, 0.251, 0.244, 0.225, 0.209]\n",
    "llama_rand4 = [0.253, 0.255, 0.247, 0.241, 0.223, 0.205]\n",
    "llama_rand5 = [0.182, 0.255, 0.270, 0.264, 0.260, 0.258]\n",
    "llama_bleu = [llama_sw, llama_rand1, llama_rand2, llama_rand3, llama_rand4, llama_rand5]\n",
    "x_title = 'JS Divergence with Clean Output (0-1)'\n",
    "y_title = 'BLEU Difference(-1 - 1)'\n",
    "out_path = '../figures/llama-js-div-bleu'\n",
    "get_corr(llama_bleu, entropy_llama, x_title, y_title, out_path)\n"
   ]
  },
  {
   "cell_type": "code",
   "execution_count": 36,
   "metadata": {},
   "outputs": [
    {
     "name": "stdout",
     "output_type": "stream",
     "text": [
      "[-0.04 -0.05 -0.06 -0.11  0.    0.   -0.01 -0.01 -0.01 -0.04 -0.07 -0.1\n",
      " -0.01 -0.02 -0.03 -0.05 -0.01 -0.02 -0.04 -0.06  0.02  0.02  0.01  0.01]\n",
      "[ 3.280e+00  5.510e+00  7.340e+00  1.239e+01  1.200e-01  5.900e-01\n",
      "  1.360e+00  2.310e+00  5.200e-01  1.340e+00  2.630e+00  4.750e+00\n",
      "  1.400e-01  5.300e-01  1.110e+00  1.870e+00 -1.000e-02  3.300e-01\n",
      "  1.110e+00  2.750e+00 -1.800e-01  2.200e-02  1.070e-01  8.950e-01]\n",
      "Spearman Rho Coefficient: -0.8413\n",
      "P-value: 0.0000\n"
     ]
    }
   ],
   "source": [
    "# Ent Diff Llama vs Comet\n",
    "llama_sw = [0.76,0.73,0.69,0.68,0.67,0.62]\n",
    "llama_rand1 = [0.72,0.73,0.73,0.73,0.72,0.72]\n",
    "llama_rand2 = [0.73,0.73, 0.72,0.69,0.66,0.63]\n",
    "llama_rand3 = [0.73,0.73,0.72,0.71,0.7,0.68]\n",
    "llama_rand4 = [0.73,0.73,0.72,0.71,0.69,0.67]\n",
    "llama_rand5 = [0.65,0.73,0.75,0.75,0.74,0.74]\n",
    "llama_comet = [llama_sw, llama_rand1, llama_rand2, llama_rand3, llama_rand4, llama_rand5]\n",
    "x_title = 'JS Divergence with Clean Output (0-1)'\n",
    "y_title = 'BLEU Difference(-1 - 1)'\n",
    "out_path = '../figures/llama-js-div-bleu'\n",
    "get_corr(llama_comet, entropy_llama, x_title, y_title, out_path)"
   ]
  },
  {
   "cell_type": "code",
   "execution_count": 37,
   "metadata": {},
   "outputs": [
    {
     "name": "stdout",
     "output_type": "stream",
     "text": [
      "[0.36 0.45 0.37 0.29 0.01 0.   0.01 0.03 0.01 0.05 0.08 0.2  0.02 0.04\n",
      " 0.05 0.03 0.01 0.03 0.04 0.06 0.   0.01 0.02 0.03]\n",
      "[ 3.280e+00  5.510e+00  7.340e+00  1.239e+01  1.200e-01  5.900e-01\n",
      "  1.360e+00  2.310e+00  5.200e-01  1.340e+00  2.630e+00  4.750e+00\n",
      "  1.400e-01  5.300e-01  1.110e+00  1.870e+00 -1.000e-02  3.300e-01\n",
      "  1.110e+00  2.750e+00 -1.800e-01  2.200e-02  1.070e-01  8.950e-01]\n",
      "Spearman Rho Coefficient: 0.8386\n",
      "P-value: 0.0000\n"
     ]
    }
   ],
   "source": [
    "# Ent Diff Llama vs CS Proba\n",
    "llama_sw = [0.01,0.02,0.38,0.47,0.39,0.31]\n",
    "llama_rand1 = [0.04,0.02,0.03,0.02,0.03,0.05]\n",
    "llama_rand2 = [0.03,0.02,0.03,0.07,0.1,0.22]\n",
    "llama_rand3 = [0.04,0.02,0.04,0.06,0.07,0.05]\n",
    "llama_rand4 = [0.02,0.02,0.03,0.05,0.06,0.08]\n",
    "llama_rand5 = [0.12,0.02,0.02,0.03,0.04,0.05]\n",
    "llama_proba = [llama_sw, llama_rand1, llama_rand2, llama_rand3, llama_rand4, llama_rand5]\n",
    "x_title = 'JS Divergence with Clean Output (0-1)'\n",
    "y_title = 'BLEU Difference(-1 - 1)'\n",
    "out_path = '../figures/llama-js-div-bleu'\n",
    "get_corr(llama_proba, entropy_llama, x_title, y_title, out_path)"
   ]
  },
  {
   "cell_type": "code",
   "execution_count": 8,
   "metadata": {},
   "outputs": [
    {
     "name": "stdout",
     "output_type": "stream",
     "text": [
      "[ 0.    -0.06  -0.022 -0.022  0.    -0.005 -0.002 -0.004 -0.002 -0.001\n",
      "  0.003  0.004 -0.001 -0.006 -0.006 -0.009 -0.002 -0.001 -0.001  0.\n",
      "  0.003 -0.004  0.     0.   ]\n",
      "[ 1.0900e+00  8.0970e+00  1.5472e+01  1.8550e+01  1.6400e-01  5.5000e-01\n",
      "  1.3100e+00  2.4790e+00  6.9000e-02  1.9600e-01  4.3000e-01  8.7500e-01\n",
      "  1.3000e-01  3.9700e-01  8.7300e-01  1.6110e+00 -2.1000e-02 -1.2000e-02\n",
      "  2.6000e-02  7.3000e-02  1.5100e-02  1.0100e-01  2.5600e-01  5.0800e-01]\n",
      "Spearman Rho Coefficient: -0.4739\n",
      "P-value: 0.0193\n"
     ]
    }
   ],
   "source": [
    "# Ent Diff Qwen vs BLEU\n",
    "entropy_qwen_sw_point = [1.09, 8.097, 15.472, 18.55]\n",
    "entropy_qwen_rand1 = [0.164,0.550,1.310,2.479]\n",
    "entropy_qwen_rand2 = [0.069,0.196,0.430,0.875]\n",
    "entropy_qwen_rand3 = [0.130,0.397,0.873,1.611]\n",
    "entropy_qwen_rand4 = [-0.021,-0.012,0.026,0.073]\n",
    "entropy_qwen_rand5 = [0.0151,0.101,0.256,0.508]\n",
    "entropy_qwen = [entropy_qwen_sw_point, entropy_qwen_rand1, entropy_qwen_rand2, entropy_qwen_rand3, entropy_qwen_rand4, entropy_qwen_rand5]\n",
    "\n",
    "qwen_sw = [0.011, 0.064, 0.064, 0.004, 0.042, 0.042]\n",
    "qwen_rand1 = [0.003, 0.064, 0.064,0.059, 0.062, 0.060]\n",
    "qwen_rand2 = [0.062, 0.064, 0.062, 0.063, 0.067, 0.068]\n",
    "qwen_rand3 = [0.061, 0.064, 0.063, 0.058, 0.058, 0.055]\n",
    "qwen_rand4 = [0.063, 0.064, 0.062, 0.063, 0.063, 0.064]\n",
    "qwen_rand5 = [0.063, 0.064, 0.067, 0.060, 0.064, 0.064]\n",
    "qwen_bleu = [qwen_sw, qwen_rand1, qwen_rand2, qwen_rand3, qwen_rand4, qwen_rand5]\n",
    "x_title = 'JS Divergence with Clean Output (0-1)'\n",
    "y_title = 'BLEU Difference(-1 - 1)'\n",
    "out_path = '../figures/llama-js-div-bleu'\n",
    "get_corr(qwen_bleu, entropy_qwen, x_title, y_title, out_path)\n"
   ]
  },
  {
   "cell_type": "code",
   "execution_count": 39,
   "metadata": {},
   "outputs": [
    {
     "name": "stdout",
     "output_type": "stream",
     "text": [
      "[0.02 0.03 0.04 0.04 0.01 0.01 0.01 0.   0.01 0.01 0.01 0.01 0.01 0.01\n",
      " 0.01 0.01 0.02 0.02 0.02 0.02 0.01 0.01 0.01 0.01]\n",
      "[ 1.0900e+00  8.0970e+00  1.5472e+01  1.8550e+01  1.6400e-01  5.5000e-01\n",
      "  1.3100e+00  2.4790e+00  6.9000e-02  1.9600e-01  4.3000e-01  8.7500e-01\n",
      "  1.3000e-01  3.9700e-01  8.7300e-01  1.6110e+00 -2.1000e-02 -1.2000e-02\n",
      "  2.6000e-02  7.3000e-02  1.5100e-02  1.0100e-01  2.5600e-01  5.0800e-01]\n",
      "Spearman Rho Coefficient: 0.0598\n",
      "P-value: 0.7812\n"
     ]
    }
   ],
   "source": [
    "# Ent Diff Qwen vs COMET\n",
    "\n",
    "qwen_sw = [0.4,0.53,0.55,0.56,0.57,0.57]\n",
    "qwen_rand1 = [0.37,0.53,0.54,0.54,0.54,0.53]\n",
    "qwen_rand2 = [0.55,0.53,0.54,0.54,0.54,0.54]\n",
    "qwen_rand3 = [0.55,0.53,0.54,0.54,0.54,0.54]\n",
    "qwen_rand4 = [0.54,0.53,0.55,0.55,0.55,0.55]\n",
    "qwen_rand5 = [0.55,0.53,0.54,0.54,0.54,0.54]\n",
    "qwen_comet = [qwen_sw, qwen_rand1, qwen_rand2, qwen_rand3, qwen_rand4, qwen_rand5]\n",
    "x_title = 'JS Divergence with Clean Output (0-1)'\n",
    "y_title = 'BLEU Difference(-1 - 1)'\n",
    "out_path = '../figures/llama-js-div-bleu'\n",
    "get_corr(qwen_comet, entropy_qwen, x_title, y_title, out_path)"
   ]
  },
  {
   "cell_type": "code",
   "execution_count": 40,
   "metadata": {},
   "outputs": [
    {
     "name": "stdout",
     "output_type": "stream",
     "text": [
      "[ 0.05  0.02  0.07 -0.05 -0.03 -0.02  0.   -0.03 -0.01 -0.02  0.   -0.03\n",
      "  0.04 -0.01 -0.01  0.   -0.01 -0.03  0.01  0.03 -0.01 -0.01  0.05  0.03]\n",
      "[ 1.0900e+00  8.0970e+00  1.5472e+01  1.8550e+01  1.6400e-01  5.5000e-01\n",
      "  1.3100e+00  2.4790e+00  6.9000e-02  1.9600e-01  4.3000e-01  8.7500e-01\n",
      "  1.3000e-01  3.9700e-01  8.7300e-01  1.6110e+00 -2.1000e-02 -1.2000e-02\n",
      "  2.6000e-02  7.3000e-02  1.5100e-02  1.0100e-01  2.5600e-01  5.0800e-01]\n",
      "Spearman Rho Coefficient: 0.0673\n",
      "P-value: 0.7547\n"
     ]
    }
   ],
   "source": [
    "# Ent Diff Qwen vs Proba\n",
    "\n",
    "qwen_sw = [0.3,0.40,0.45,0.42,0.47,0.35]\n",
    "qwen_rand1 = [0.4,0.4,0.37,0.38,0.4,0.37]\n",
    "qwen_rand2 = [0.4,0.4,0.39,0.38,0.4,0.37]\n",
    "qwen_rand3 = [0.42,0.4,0.44,0.39,0.39,0.4]\n",
    "qwen_rand4 = [0.43,0.4,0.39,0.37,0.41,0.43]\n",
    "qwen_rand5 = [0.37,0.4,0.39,0.39,0.45,0.43]\n",
    "qwen_proba = [qwen_sw, qwen_rand1, qwen_rand2, qwen_rand3, qwen_rand4, qwen_rand5]\n",
    "\n",
    "get_corr(qwen_proba, entropy_qwen, x_title, y_title, out_path)"
   ]
  },
  {
   "cell_type": "code",
   "execution_count": 13,
   "metadata": {},
   "outputs": [
    {
     "data": {
      "text/plain": [
       "[[0.01, 0.05, 0.13, 0.24],\n",
       " [0.005, 0.02, 0.048, 0.094],\n",
       " [0.009, 0.038, 0.091, 0.168],\n",
       " [0.004, 0.015, 0.03, 0.046],\n",
       " [0.008, 0.025, 0.045, 0.067]]"
      ]
     },
     "execution_count": 13,
     "metadata": {},
     "output_type": "execute_result"
    }
   ],
   "source": [
    "js_div_qwen[1:]"
   ]
  },
  {
   "cell_type": "code",
   "execution_count": 16,
   "metadata": {},
   "outputs": [
    {
     "data": {
      "application/vnd.plotly.v1+json": {
       "config": {
        "plotlyServerURL": "https://plot.ly"
       },
       "data": [
        {
         "mode": "lines+markers",
         "name": "llama-3.2-3b-instruct_sw-points",
         "type": "scatter",
         "x": [
          2,
          3,
          4,
          5
         ],
         "y": [
          3.28,
          5.51,
          7.34,
          12.39
         ]
        },
        {
         "error_y": {
          "array": [
           0.22658142554057692,
           0.42773720859424885,
           0.7914677065401973,
           1.2498669657207522
          ],
          "type": "data",
          "visible": true
         },
         "mode": "lines+markers",
         "name": "llama-3.2-3b-instruct_random",
         "type": "scatter",
         "x": [
          2,
          3,
          4,
          5,
          6
         ],
         "y": [
          0.11800000000000002,
          0.5624,
          1.2634000000000003,
          2.5149999999999997
         ]
        },
        {
         "mode": "lines+markers",
         "name": "qwen-7b-instruct_sw-points",
         "type": "scatter",
         "x": [
          2,
          3,
          4,
          5
         ],
         "y": [
          1.09,
          8.097,
          15.472,
          18.55
         ]
        },
        {
         "error_y": {
          "array": [
           0.06750191056733135,
           0.19858253401545664,
           0.44976256278174154,
           0.8336519406466947
          ],
          "type": "data",
          "visible": true
         },
         "mode": "lines+markers",
         "name": "qwen-7b-instruct_random",
         "type": "scatter",
         "x": [
          2,
          3,
          4,
          5,
          6
         ],
         "y": [
          0.07142,
          0.2464,
          0.579,
          1.1092
         ]
        }
       ],
       "layout": {
        "template": {
         "data": {
          "bar": [
           {
            "error_x": {
             "color": "#2a3f5f"
            },
            "error_y": {
             "color": "#2a3f5f"
            },
            "marker": {
             "line": {
              "color": "#E5ECF6",
              "width": 0.5
             },
             "pattern": {
              "fillmode": "overlay",
              "size": 10,
              "solidity": 0.2
             }
            },
            "type": "bar"
           }
          ],
          "barpolar": [
           {
            "marker": {
             "line": {
              "color": "#E5ECF6",
              "width": 0.5
             },
             "pattern": {
              "fillmode": "overlay",
              "size": 10,
              "solidity": 0.2
             }
            },
            "type": "barpolar"
           }
          ],
          "carpet": [
           {
            "aaxis": {
             "endlinecolor": "#2a3f5f",
             "gridcolor": "white",
             "linecolor": "white",
             "minorgridcolor": "white",
             "startlinecolor": "#2a3f5f"
            },
            "baxis": {
             "endlinecolor": "#2a3f5f",
             "gridcolor": "white",
             "linecolor": "white",
             "minorgridcolor": "white",
             "startlinecolor": "#2a3f5f"
            },
            "type": "carpet"
           }
          ],
          "choropleth": [
           {
            "colorbar": {
             "outlinewidth": 0,
             "ticks": ""
            },
            "type": "choropleth"
           }
          ],
          "contour": [
           {
            "colorbar": {
             "outlinewidth": 0,
             "ticks": ""
            },
            "colorscale": [
             [
              0,
              "#0d0887"
             ],
             [
              0.1111111111111111,
              "#46039f"
             ],
             [
              0.2222222222222222,
              "#7201a8"
             ],
             [
              0.3333333333333333,
              "#9c179e"
             ],
             [
              0.4444444444444444,
              "#bd3786"
             ],
             [
              0.5555555555555556,
              "#d8576b"
             ],
             [
              0.6666666666666666,
              "#ed7953"
             ],
             [
              0.7777777777777778,
              "#fb9f3a"
             ],
             [
              0.8888888888888888,
              "#fdca26"
             ],
             [
              1,
              "#f0f921"
             ]
            ],
            "type": "contour"
           }
          ],
          "contourcarpet": [
           {
            "colorbar": {
             "outlinewidth": 0,
             "ticks": ""
            },
            "type": "contourcarpet"
           }
          ],
          "heatmap": [
           {
            "colorbar": {
             "outlinewidth": 0,
             "ticks": ""
            },
            "colorscale": [
             [
              0,
              "#0d0887"
             ],
             [
              0.1111111111111111,
              "#46039f"
             ],
             [
              0.2222222222222222,
              "#7201a8"
             ],
             [
              0.3333333333333333,
              "#9c179e"
             ],
             [
              0.4444444444444444,
              "#bd3786"
             ],
             [
              0.5555555555555556,
              "#d8576b"
             ],
             [
              0.6666666666666666,
              "#ed7953"
             ],
             [
              0.7777777777777778,
              "#fb9f3a"
             ],
             [
              0.8888888888888888,
              "#fdca26"
             ],
             [
              1,
              "#f0f921"
             ]
            ],
            "type": "heatmap"
           }
          ],
          "heatmapgl": [
           {
            "colorbar": {
             "outlinewidth": 0,
             "ticks": ""
            },
            "colorscale": [
             [
              0,
              "#0d0887"
             ],
             [
              0.1111111111111111,
              "#46039f"
             ],
             [
              0.2222222222222222,
              "#7201a8"
             ],
             [
              0.3333333333333333,
              "#9c179e"
             ],
             [
              0.4444444444444444,
              "#bd3786"
             ],
             [
              0.5555555555555556,
              "#d8576b"
             ],
             [
              0.6666666666666666,
              "#ed7953"
             ],
             [
              0.7777777777777778,
              "#fb9f3a"
             ],
             [
              0.8888888888888888,
              "#fdca26"
             ],
             [
              1,
              "#f0f921"
             ]
            ],
            "type": "heatmapgl"
           }
          ],
          "histogram": [
           {
            "marker": {
             "pattern": {
              "fillmode": "overlay",
              "size": 10,
              "solidity": 0.2
             }
            },
            "type": "histogram"
           }
          ],
          "histogram2d": [
           {
            "colorbar": {
             "outlinewidth": 0,
             "ticks": ""
            },
            "colorscale": [
             [
              0,
              "#0d0887"
             ],
             [
              0.1111111111111111,
              "#46039f"
             ],
             [
              0.2222222222222222,
              "#7201a8"
             ],
             [
              0.3333333333333333,
              "#9c179e"
             ],
             [
              0.4444444444444444,
              "#bd3786"
             ],
             [
              0.5555555555555556,
              "#d8576b"
             ],
             [
              0.6666666666666666,
              "#ed7953"
             ],
             [
              0.7777777777777778,
              "#fb9f3a"
             ],
             [
              0.8888888888888888,
              "#fdca26"
             ],
             [
              1,
              "#f0f921"
             ]
            ],
            "type": "histogram2d"
           }
          ],
          "histogram2dcontour": [
           {
            "colorbar": {
             "outlinewidth": 0,
             "ticks": ""
            },
            "colorscale": [
             [
              0,
              "#0d0887"
             ],
             [
              0.1111111111111111,
              "#46039f"
             ],
             [
              0.2222222222222222,
              "#7201a8"
             ],
             [
              0.3333333333333333,
              "#9c179e"
             ],
             [
              0.4444444444444444,
              "#bd3786"
             ],
             [
              0.5555555555555556,
              "#d8576b"
             ],
             [
              0.6666666666666666,
              "#ed7953"
             ],
             [
              0.7777777777777778,
              "#fb9f3a"
             ],
             [
              0.8888888888888888,
              "#fdca26"
             ],
             [
              1,
              "#f0f921"
             ]
            ],
            "type": "histogram2dcontour"
           }
          ],
          "mesh3d": [
           {
            "colorbar": {
             "outlinewidth": 0,
             "ticks": ""
            },
            "type": "mesh3d"
           }
          ],
          "parcoords": [
           {
            "line": {
             "colorbar": {
              "outlinewidth": 0,
              "ticks": ""
             }
            },
            "type": "parcoords"
           }
          ],
          "pie": [
           {
            "automargin": true,
            "type": "pie"
           }
          ],
          "scatter": [
           {
            "fillpattern": {
             "fillmode": "overlay",
             "size": 10,
             "solidity": 0.2
            },
            "type": "scatter"
           }
          ],
          "scatter3d": [
           {
            "line": {
             "colorbar": {
              "outlinewidth": 0,
              "ticks": ""
             }
            },
            "marker": {
             "colorbar": {
              "outlinewidth": 0,
              "ticks": ""
             }
            },
            "type": "scatter3d"
           }
          ],
          "scattercarpet": [
           {
            "marker": {
             "colorbar": {
              "outlinewidth": 0,
              "ticks": ""
             }
            },
            "type": "scattercarpet"
           }
          ],
          "scattergeo": [
           {
            "marker": {
             "colorbar": {
              "outlinewidth": 0,
              "ticks": ""
             }
            },
            "type": "scattergeo"
           }
          ],
          "scattergl": [
           {
            "marker": {
             "colorbar": {
              "outlinewidth": 0,
              "ticks": ""
             }
            },
            "type": "scattergl"
           }
          ],
          "scattermapbox": [
           {
            "marker": {
             "colorbar": {
              "outlinewidth": 0,
              "ticks": ""
             }
            },
            "type": "scattermapbox"
           }
          ],
          "scatterpolar": [
           {
            "marker": {
             "colorbar": {
              "outlinewidth": 0,
              "ticks": ""
             }
            },
            "type": "scatterpolar"
           }
          ],
          "scatterpolargl": [
           {
            "marker": {
             "colorbar": {
              "outlinewidth": 0,
              "ticks": ""
             }
            },
            "type": "scatterpolargl"
           }
          ],
          "scatterternary": [
           {
            "marker": {
             "colorbar": {
              "outlinewidth": 0,
              "ticks": ""
             }
            },
            "type": "scatterternary"
           }
          ],
          "surface": [
           {
            "colorbar": {
             "outlinewidth": 0,
             "ticks": ""
            },
            "colorscale": [
             [
              0,
              "#0d0887"
             ],
             [
              0.1111111111111111,
              "#46039f"
             ],
             [
              0.2222222222222222,
              "#7201a8"
             ],
             [
              0.3333333333333333,
              "#9c179e"
             ],
             [
              0.4444444444444444,
              "#bd3786"
             ],
             [
              0.5555555555555556,
              "#d8576b"
             ],
             [
              0.6666666666666666,
              "#ed7953"
             ],
             [
              0.7777777777777778,
              "#fb9f3a"
             ],
             [
              0.8888888888888888,
              "#fdca26"
             ],
             [
              1,
              "#f0f921"
             ]
            ],
            "type": "surface"
           }
          ],
          "table": [
           {
            "cells": {
             "fill": {
              "color": "#EBF0F8"
             },
             "line": {
              "color": "white"
             }
            },
            "header": {
             "fill": {
              "color": "#C8D4E3"
             },
             "line": {
              "color": "white"
             }
            },
            "type": "table"
           }
          ]
         },
         "layout": {
          "annotationdefaults": {
           "arrowcolor": "#2a3f5f",
           "arrowhead": 0,
           "arrowwidth": 1
          },
          "autotypenumbers": "strict",
          "coloraxis": {
           "colorbar": {
            "outlinewidth": 0,
            "ticks": ""
           }
          },
          "colorscale": {
           "diverging": [
            [
             0,
             "#8e0152"
            ],
            [
             0.1,
             "#c51b7d"
            ],
            [
             0.2,
             "#de77ae"
            ],
            [
             0.3,
             "#f1b6da"
            ],
            [
             0.4,
             "#fde0ef"
            ],
            [
             0.5,
             "#f7f7f7"
            ],
            [
             0.6,
             "#e6f5d0"
            ],
            [
             0.7,
             "#b8e186"
            ],
            [
             0.8,
             "#7fbc41"
            ],
            [
             0.9,
             "#4d9221"
            ],
            [
             1,
             "#276419"
            ]
           ],
           "sequential": [
            [
             0,
             "#0d0887"
            ],
            [
             0.1111111111111111,
             "#46039f"
            ],
            [
             0.2222222222222222,
             "#7201a8"
            ],
            [
             0.3333333333333333,
             "#9c179e"
            ],
            [
             0.4444444444444444,
             "#bd3786"
            ],
            [
             0.5555555555555556,
             "#d8576b"
            ],
            [
             0.6666666666666666,
             "#ed7953"
            ],
            [
             0.7777777777777778,
             "#fb9f3a"
            ],
            [
             0.8888888888888888,
             "#fdca26"
            ],
            [
             1,
             "#f0f921"
            ]
           ],
           "sequentialminus": [
            [
             0,
             "#0d0887"
            ],
            [
             0.1111111111111111,
             "#46039f"
            ],
            [
             0.2222222222222222,
             "#7201a8"
            ],
            [
             0.3333333333333333,
             "#9c179e"
            ],
            [
             0.4444444444444444,
             "#bd3786"
            ],
            [
             0.5555555555555556,
             "#d8576b"
            ],
            [
             0.6666666666666666,
             "#ed7953"
            ],
            [
             0.7777777777777778,
             "#fb9f3a"
            ],
            [
             0.8888888888888888,
             "#fdca26"
            ],
            [
             1,
             "#f0f921"
            ]
           ]
          },
          "colorway": [
           "#636efa",
           "#EF553B",
           "#00cc96",
           "#ab63fa",
           "#FFA15A",
           "#19d3f3",
           "#FF6692",
           "#B6E880",
           "#FF97FF",
           "#FECB52"
          ],
          "font": {
           "color": "#2a3f5f"
          },
          "geo": {
           "bgcolor": "white",
           "lakecolor": "white",
           "landcolor": "#E5ECF6",
           "showlakes": true,
           "showland": true,
           "subunitcolor": "white"
          },
          "hoverlabel": {
           "align": "left"
          },
          "hovermode": "closest",
          "mapbox": {
           "style": "light"
          },
          "paper_bgcolor": "white",
          "plot_bgcolor": "#E5ECF6",
          "polar": {
           "angularaxis": {
            "gridcolor": "white",
            "linecolor": "white",
            "ticks": ""
           },
           "bgcolor": "#E5ECF6",
           "radialaxis": {
            "gridcolor": "white",
            "linecolor": "white",
            "ticks": ""
           }
          },
          "scene": {
           "xaxis": {
            "backgroundcolor": "#E5ECF6",
            "gridcolor": "white",
            "gridwidth": 2,
            "linecolor": "white",
            "showbackground": true,
            "ticks": "",
            "zerolinecolor": "white"
           },
           "yaxis": {
            "backgroundcolor": "#E5ECF6",
            "gridcolor": "white",
            "gridwidth": 2,
            "linecolor": "white",
            "showbackground": true,
            "ticks": "",
            "zerolinecolor": "white"
           },
           "zaxis": {
            "backgroundcolor": "#E5ECF6",
            "gridcolor": "white",
            "gridwidth": 2,
            "linecolor": "white",
            "showbackground": true,
            "ticks": "",
            "zerolinecolor": "white"
           }
          },
          "shapedefaults": {
           "line": {
            "color": "#2a3f5f"
           }
          },
          "ternary": {
           "aaxis": {
            "gridcolor": "white",
            "linecolor": "white",
            "ticks": ""
           },
           "baxis": {
            "gridcolor": "white",
            "linecolor": "white",
            "ticks": ""
           },
           "bgcolor": "#E5ECF6",
           "caxis": {
            "gridcolor": "white",
            "linecolor": "white",
            "ticks": ""
           }
          },
          "title": {
           "x": 0.05
          },
          "xaxis": {
           "automargin": true,
           "gridcolor": "white",
           "linecolor": "white",
           "ticks": "",
           "title": {
            "standoff": 15
           },
           "zerolinecolor": "white",
           "zerolinewidth": 2
          },
          "yaxis": {
           "automargin": true,
           "gridcolor": "white",
           "linecolor": "white",
           "ticks": "",
           "title": {
            "standoff": 15
           },
           "zerolinecolor": "white",
           "zerolinewidth": 2
          }
         }
        },
        "xaxis": {
         "title": {
          "text": "Intervention Multiplier Constant"
         }
        },
        "yaxis": {
         "title": {
          "text": "Tokens Entropy Difference After Intervention"
         }
        }
       }
      },
      "text/html": [
       "<div>                            <div id=\"621296cc-b99f-4bfc-9804-3479fe56f95e\" class=\"plotly-graph-div\" style=\"height:525px; width:100%;\"></div>            <script type=\"text/javascript\">                require([\"plotly\"], function(Plotly) {                    window.PLOTLYENV=window.PLOTLYENV || {};                                    if (document.getElementById(\"621296cc-b99f-4bfc-9804-3479fe56f95e\")) {                    Plotly.newPlot(                        \"621296cc-b99f-4bfc-9804-3479fe56f95e\",                        [{\"mode\":\"lines+markers\",\"name\":\"llama-3.2-3b-instruct_sw-points\",\"x\":[2,3,4,5],\"y\":[3.28,5.51,7.34,12.39],\"type\":\"scatter\"},{\"error_y\":{\"array\":[0.22658142554057692,0.42773720859424885,0.7914677065401973,1.2498669657207522],\"type\":\"data\",\"visible\":true},\"mode\":\"lines+markers\",\"name\":\"llama-3.2-3b-instruct_random\",\"x\":[2,3,4,5,6],\"y\":[0.11800000000000002,0.5624,1.2634000000000003,2.5149999999999997],\"type\":\"scatter\"},{\"mode\":\"lines+markers\",\"name\":\"qwen-7b-instruct_sw-points\",\"x\":[2,3,4,5],\"y\":[1.09,8.097,15.472,18.55],\"type\":\"scatter\"},{\"error_y\":{\"array\":[0.06750191056733135,0.19858253401545664,0.44976256278174154,0.8336519406466947],\"type\":\"data\",\"visible\":true},\"mode\":\"lines+markers\",\"name\":\"qwen-7b-instruct_random\",\"x\":[2,3,4,5,6],\"y\":[0.07142,0.2464,0.579,1.1092],\"type\":\"scatter\"}],                        {\"template\":{\"data\":{\"histogram2dcontour\":[{\"type\":\"histogram2dcontour\",\"colorbar\":{\"outlinewidth\":0,\"ticks\":\"\"},\"colorscale\":[[0.0,\"#0d0887\"],[0.1111111111111111,\"#46039f\"],[0.2222222222222222,\"#7201a8\"],[0.3333333333333333,\"#9c179e\"],[0.4444444444444444,\"#bd3786\"],[0.5555555555555556,\"#d8576b\"],[0.6666666666666666,\"#ed7953\"],[0.7777777777777778,\"#fb9f3a\"],[0.8888888888888888,\"#fdca26\"],[1.0,\"#f0f921\"]]}],\"choropleth\":[{\"type\":\"choropleth\",\"colorbar\":{\"outlinewidth\":0,\"ticks\":\"\"}}],\"histogram2d\":[{\"type\":\"histogram2d\",\"colorbar\":{\"outlinewidth\":0,\"ticks\":\"\"},\"colorscale\":[[0.0,\"#0d0887\"],[0.1111111111111111,\"#46039f\"],[0.2222222222222222,\"#7201a8\"],[0.3333333333333333,\"#9c179e\"],[0.4444444444444444,\"#bd3786\"],[0.5555555555555556,\"#d8576b\"],[0.6666666666666666,\"#ed7953\"],[0.7777777777777778,\"#fb9f3a\"],[0.8888888888888888,\"#fdca26\"],[1.0,\"#f0f921\"]]}],\"heatmap\":[{\"type\":\"heatmap\",\"colorbar\":{\"outlinewidth\":0,\"ticks\":\"\"},\"colorscale\":[[0.0,\"#0d0887\"],[0.1111111111111111,\"#46039f\"],[0.2222222222222222,\"#7201a8\"],[0.3333333333333333,\"#9c179e\"],[0.4444444444444444,\"#bd3786\"],[0.5555555555555556,\"#d8576b\"],[0.6666666666666666,\"#ed7953\"],[0.7777777777777778,\"#fb9f3a\"],[0.8888888888888888,\"#fdca26\"],[1.0,\"#f0f921\"]]}],\"heatmapgl\":[{\"type\":\"heatmapgl\",\"colorbar\":{\"outlinewidth\":0,\"ticks\":\"\"},\"colorscale\":[[0.0,\"#0d0887\"],[0.1111111111111111,\"#46039f\"],[0.2222222222222222,\"#7201a8\"],[0.3333333333333333,\"#9c179e\"],[0.4444444444444444,\"#bd3786\"],[0.5555555555555556,\"#d8576b\"],[0.6666666666666666,\"#ed7953\"],[0.7777777777777778,\"#fb9f3a\"],[0.8888888888888888,\"#fdca26\"],[1.0,\"#f0f921\"]]}],\"contourcarpet\":[{\"type\":\"contourcarpet\",\"colorbar\":{\"outlinewidth\":0,\"ticks\":\"\"}}],\"contour\":[{\"type\":\"contour\",\"colorbar\":{\"outlinewidth\":0,\"ticks\":\"\"},\"colorscale\":[[0.0,\"#0d0887\"],[0.1111111111111111,\"#46039f\"],[0.2222222222222222,\"#7201a8\"],[0.3333333333333333,\"#9c179e\"],[0.4444444444444444,\"#bd3786\"],[0.5555555555555556,\"#d8576b\"],[0.6666666666666666,\"#ed7953\"],[0.7777777777777778,\"#fb9f3a\"],[0.8888888888888888,\"#fdca26\"],[1.0,\"#f0f921\"]]}],\"surface\":[{\"type\":\"surface\",\"colorbar\":{\"outlinewidth\":0,\"ticks\":\"\"},\"colorscale\":[[0.0,\"#0d0887\"],[0.1111111111111111,\"#46039f\"],[0.2222222222222222,\"#7201a8\"],[0.3333333333333333,\"#9c179e\"],[0.4444444444444444,\"#bd3786\"],[0.5555555555555556,\"#d8576b\"],[0.6666666666666666,\"#ed7953\"],[0.7777777777777778,\"#fb9f3a\"],[0.8888888888888888,\"#fdca26\"],[1.0,\"#f0f921\"]]}],\"mesh3d\":[{\"type\":\"mesh3d\",\"colorbar\":{\"outlinewidth\":0,\"ticks\":\"\"}}],\"scatter\":[{\"fillpattern\":{\"fillmode\":\"overlay\",\"size\":10,\"solidity\":0.2},\"type\":\"scatter\"}],\"parcoords\":[{\"type\":\"parcoords\",\"line\":{\"colorbar\":{\"outlinewidth\":0,\"ticks\":\"\"}}}],\"scatterpolargl\":[{\"type\":\"scatterpolargl\",\"marker\":{\"colorbar\":{\"outlinewidth\":0,\"ticks\":\"\"}}}],\"bar\":[{\"error_x\":{\"color\":\"#2a3f5f\"},\"error_y\":{\"color\":\"#2a3f5f\"},\"marker\":{\"line\":{\"color\":\"#E5ECF6\",\"width\":0.5},\"pattern\":{\"fillmode\":\"overlay\",\"size\":10,\"solidity\":0.2}},\"type\":\"bar\"}],\"scattergeo\":[{\"type\":\"scattergeo\",\"marker\":{\"colorbar\":{\"outlinewidth\":0,\"ticks\":\"\"}}}],\"scatterpolar\":[{\"type\":\"scatterpolar\",\"marker\":{\"colorbar\":{\"outlinewidth\":0,\"ticks\":\"\"}}}],\"histogram\":[{\"marker\":{\"pattern\":{\"fillmode\":\"overlay\",\"size\":10,\"solidity\":0.2}},\"type\":\"histogram\"}],\"scattergl\":[{\"type\":\"scattergl\",\"marker\":{\"colorbar\":{\"outlinewidth\":0,\"ticks\":\"\"}}}],\"scatter3d\":[{\"type\":\"scatter3d\",\"line\":{\"colorbar\":{\"outlinewidth\":0,\"ticks\":\"\"}},\"marker\":{\"colorbar\":{\"outlinewidth\":0,\"ticks\":\"\"}}}],\"scattermapbox\":[{\"type\":\"scattermapbox\",\"marker\":{\"colorbar\":{\"outlinewidth\":0,\"ticks\":\"\"}}}],\"scatterternary\":[{\"type\":\"scatterternary\",\"marker\":{\"colorbar\":{\"outlinewidth\":0,\"ticks\":\"\"}}}],\"scattercarpet\":[{\"type\":\"scattercarpet\",\"marker\":{\"colorbar\":{\"outlinewidth\":0,\"ticks\":\"\"}}}],\"carpet\":[{\"aaxis\":{\"endlinecolor\":\"#2a3f5f\",\"gridcolor\":\"white\",\"linecolor\":\"white\",\"minorgridcolor\":\"white\",\"startlinecolor\":\"#2a3f5f\"},\"baxis\":{\"endlinecolor\":\"#2a3f5f\",\"gridcolor\":\"white\",\"linecolor\":\"white\",\"minorgridcolor\":\"white\",\"startlinecolor\":\"#2a3f5f\"},\"type\":\"carpet\"}],\"table\":[{\"cells\":{\"fill\":{\"color\":\"#EBF0F8\"},\"line\":{\"color\":\"white\"}},\"header\":{\"fill\":{\"color\":\"#C8D4E3\"},\"line\":{\"color\":\"white\"}},\"type\":\"table\"}],\"barpolar\":[{\"marker\":{\"line\":{\"color\":\"#E5ECF6\",\"width\":0.5},\"pattern\":{\"fillmode\":\"overlay\",\"size\":10,\"solidity\":0.2}},\"type\":\"barpolar\"}],\"pie\":[{\"automargin\":true,\"type\":\"pie\"}]},\"layout\":{\"autotypenumbers\":\"strict\",\"colorway\":[\"#636efa\",\"#EF553B\",\"#00cc96\",\"#ab63fa\",\"#FFA15A\",\"#19d3f3\",\"#FF6692\",\"#B6E880\",\"#FF97FF\",\"#FECB52\"],\"font\":{\"color\":\"#2a3f5f\"},\"hovermode\":\"closest\",\"hoverlabel\":{\"align\":\"left\"},\"paper_bgcolor\":\"white\",\"plot_bgcolor\":\"#E5ECF6\",\"polar\":{\"bgcolor\":\"#E5ECF6\",\"angularaxis\":{\"gridcolor\":\"white\",\"linecolor\":\"white\",\"ticks\":\"\"},\"radialaxis\":{\"gridcolor\":\"white\",\"linecolor\":\"white\",\"ticks\":\"\"}},\"ternary\":{\"bgcolor\":\"#E5ECF6\",\"aaxis\":{\"gridcolor\":\"white\",\"linecolor\":\"white\",\"ticks\":\"\"},\"baxis\":{\"gridcolor\":\"white\",\"linecolor\":\"white\",\"ticks\":\"\"},\"caxis\":{\"gridcolor\":\"white\",\"linecolor\":\"white\",\"ticks\":\"\"}},\"coloraxis\":{\"colorbar\":{\"outlinewidth\":0,\"ticks\":\"\"}},\"colorscale\":{\"sequential\":[[0.0,\"#0d0887\"],[0.1111111111111111,\"#46039f\"],[0.2222222222222222,\"#7201a8\"],[0.3333333333333333,\"#9c179e\"],[0.4444444444444444,\"#bd3786\"],[0.5555555555555556,\"#d8576b\"],[0.6666666666666666,\"#ed7953\"],[0.7777777777777778,\"#fb9f3a\"],[0.8888888888888888,\"#fdca26\"],[1.0,\"#f0f921\"]],\"sequentialminus\":[[0.0,\"#0d0887\"],[0.1111111111111111,\"#46039f\"],[0.2222222222222222,\"#7201a8\"],[0.3333333333333333,\"#9c179e\"],[0.4444444444444444,\"#bd3786\"],[0.5555555555555556,\"#d8576b\"],[0.6666666666666666,\"#ed7953\"],[0.7777777777777778,\"#fb9f3a\"],[0.8888888888888888,\"#fdca26\"],[1.0,\"#f0f921\"]],\"diverging\":[[0,\"#8e0152\"],[0.1,\"#c51b7d\"],[0.2,\"#de77ae\"],[0.3,\"#f1b6da\"],[0.4,\"#fde0ef\"],[0.5,\"#f7f7f7\"],[0.6,\"#e6f5d0\"],[0.7,\"#b8e186\"],[0.8,\"#7fbc41\"],[0.9,\"#4d9221\"],[1,\"#276419\"]]},\"xaxis\":{\"gridcolor\":\"white\",\"linecolor\":\"white\",\"ticks\":\"\",\"title\":{\"standoff\":15},\"zerolinecolor\":\"white\",\"automargin\":true,\"zerolinewidth\":2},\"yaxis\":{\"gridcolor\":\"white\",\"linecolor\":\"white\",\"ticks\":\"\",\"title\":{\"standoff\":15},\"zerolinecolor\":\"white\",\"automargin\":true,\"zerolinewidth\":2},\"scene\":{\"xaxis\":{\"backgroundcolor\":\"#E5ECF6\",\"gridcolor\":\"white\",\"linecolor\":\"white\",\"showbackground\":true,\"ticks\":\"\",\"zerolinecolor\":\"white\",\"gridwidth\":2},\"yaxis\":{\"backgroundcolor\":\"#E5ECF6\",\"gridcolor\":\"white\",\"linecolor\":\"white\",\"showbackground\":true,\"ticks\":\"\",\"zerolinecolor\":\"white\",\"gridwidth\":2},\"zaxis\":{\"backgroundcolor\":\"#E5ECF6\",\"gridcolor\":\"white\",\"linecolor\":\"white\",\"showbackground\":true,\"ticks\":\"\",\"zerolinecolor\":\"white\",\"gridwidth\":2}},\"shapedefaults\":{\"line\":{\"color\":\"#2a3f5f\"}},\"annotationdefaults\":{\"arrowcolor\":\"#2a3f5f\",\"arrowhead\":0,\"arrowwidth\":1},\"geo\":{\"bgcolor\":\"white\",\"landcolor\":\"#E5ECF6\",\"subunitcolor\":\"white\",\"showland\":true,\"showlakes\":true,\"lakecolor\":\"white\"},\"title\":{\"x\":0.05},\"mapbox\":{\"style\":\"light\"}}},\"xaxis\":{\"title\":{\"text\":\"Intervention Multiplier Constant\"}},\"yaxis\":{\"title\":{\"text\":\"Tokens Entropy Difference After Intervention\"}}},                        {\"responsive\": true}                    ).then(function(){\n",
       "                            \n",
       "var gd = document.getElementById('621296cc-b99f-4bfc-9804-3479fe56f95e');\n",
       "var x = new MutationObserver(function (mutations, observer) {{\n",
       "        var display = window.getComputedStyle(gd).display;\n",
       "        if (!display || display === 'none') {{\n",
       "            console.log([gd, 'removed!']);\n",
       "            Plotly.purge(gd);\n",
       "            observer.disconnect();\n",
       "        }}\n",
       "}});\n",
       "\n",
       "// Listen for the removal of the full notebook cells\n",
       "var notebookContainer = gd.closest('#notebook-container');\n",
       "if (notebookContainer) {{\n",
       "    x.observe(notebookContainer, {childList: true});\n",
       "}}\n",
       "\n",
       "// Listen for the clearing of the current output cell\n",
       "var outputEl = gd.closest('.output');\n",
       "if (outputEl) {{\n",
       "    x.observe(outputEl, {childList: true});\n",
       "}}\n",
       "\n",
       "                        })                };                });            </script>        </div>"
      ]
     },
     "metadata": {},
     "output_type": "display_data"
    }
   ],
   "source": [
    "# BLEU\n",
    "llama_sw = [0.266, 0.255, 0.045, 0.046, 0.045, 0.046]\n",
    "llama_rand1 = [0.253, 0.255, 0.253,0.250, 0.243, 0.241]\n",
    "llama_rand2 = [0.259, 0.255, 0.244, 0.212, 0.169, 0.241]\n",
    "llama_rand3 = [0.250, 0.255, 0.251, 0.244, 0.225, 0.209]\n",
    "llama_rand4 = [0.253, 0.255, 0.247, 0.241, 0.223, 0.205]\n",
    "llama_rand5 = [0.182, 0.255, 0.270, 0.264, 0.260, 0.258]\n",
    "llama_rand = [llama_rand1, llama_rand2, llama_rand3, llama_rand4, llama_rand5]\n",
    "\n",
    "qwen_sw = [0.011, 0.064, 0.064, 0.004, 0.042, 0.042]\n",
    "qwen_rand1 = [0.003, 0.064, 0.064,0.059, 0.062, 0.060]\n",
    "qwen_rand2 = [0.062, 0.064, 0.062, 0.063, 0.067, 0.068]\n",
    "qwen_rand3 = [0.061, 0.064, 0.063, 0.058, 0.058, 0.055]\n",
    "qwen_rand4 = [0.063, 0.064, 0.062, 0.063, 0.063, 0.064]\n",
    "qwen_rand5 = [0.063, 0.064, 0.067, 0.060, 0.064, 0.064]\n",
    "qwen_rand = [qwen_rand1, qwen_rand2, qwen_rand3, qwen_rand4, qwen_rand5]\n",
    "\n",
    "labels = ['llama-3.2-3b-instruct_sw-points', 'llama-3.2-3b-instruct_random', 'qwen-7b-instruct_sw-points', 'qwen-7b-instruct_random']\n",
    "all_scores = [entropy_llama[0], entropy_llama[1:], entropy_qwen[0], entropy_qwen[1:]]\n",
    "metric_name = 'Tokens Entropy Difference After Intervention'\n",
    "out_path = '../figures/entropy-multiplier-effects'\n",
    "visualize_scores(all_scores, labels, metric_name, out_path)\n"
   ]
  }
 ],
 "metadata": {
  "kernelspec": {
   "display_name": "cmix_neurons",
   "language": "python",
   "name": "python3"
  },
  "language_info": {
   "codemirror_mode": {
    "name": "ipython",
    "version": 3
   },
   "file_extension": ".py",
   "mimetype": "text/x-python",
   "name": "python",
   "nbconvert_exporter": "python",
   "pygments_lexer": "ipython3",
   "version": "3.10.15"
  }
 },
 "nbformat": 4,
 "nbformat_minor": 2
}
