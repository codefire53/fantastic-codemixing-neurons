{
 "cells": [
  {
   "cell_type": "code",
   "execution_count": 21,
   "metadata": {},
   "outputs": [
    {
     "name": "stderr",
     "output_type": "stream",
     "text": [
      "100%|██████████| 942/942 [14:50<00:00,  1.06it/s]\n",
      "/tmp/slurm-mahardika.ihsani-61924/ipykernel_809399/2636160432.py:45: RuntimeWarning: coroutine 'Translator.translate' was never awaited\n",
      "  hindi_data = await translate_from_english_to_hindi(english_data)\n",
      "RuntimeWarning: Enable tracemalloc to get the object allocation traceback\n"
     ]
    }
   ],
   "source": [
    "from tqdm import tqdm\n",
    "import asyncio\n",
    "from googletrans import Translator\n",
    "\n",
    "async def translate_from_english_to_hindi(sentences, transliterator=None):\n",
    "    translated_sents = []\n",
    "    for sentence in tqdm(sentences):\n",
    "        async with Translator() as translator:\n",
    "            hindi_dev_sent = await translator.translate(sentence,dest='hi',src='en')\n",
    "            translated_sents.append(hindi_dev_sent.text)\n",
    "    return translated_sents\n",
    "\n",
    "\n",
    "\n",
    "#transliterator = XlitEngine(src_script_type=\"indic\", beam_width=3, rescore=False)\n",
    "#Calcs preprocessing\n",
    "# english_data, cm_data = [], []\n",
    "# with open('datasets/calcs_english-hinglish/train.txt', 'r') as f:\n",
    "#     lines = f.readlines()\n",
    "#     for line in lines:\n",
    "#         english_text, cm_text = line.split('\\t')\n",
    "#         english_text, cm_text = english_text.strip(), cm_text.strip()\n",
    "#         english_data.append(english_text)\n",
    "#         cm_data.append(cm_text)\n",
    "\n",
    "\n",
    "# hindi_data = await translate_from_english_to_hindi(english_data)\n",
    "\n",
    "# lines = ['\\t'.join([en_sent, hi_sent, cm_sent]) for en_sent, hi_sent, cm_sent in zip(english_data, hindi_data, cm_data)]\n",
    "\n",
    "with open('datasets/calcs_english-hinglish/train_hi_og.txt', 'w') as f:\n",
    "    f.write('\\n'.join(lines))\n",
    "\n",
    "english_data, cm_data = [], []\n",
    "\n",
    "with open('datasets/calcs_english-hinglish/dev.txt', 'r') as f:\n",
    "    lines = f.readlines()\n",
    "    for line in lines:\n",
    "        english_text, cm_text = line.split('\\t')\n",
    "        english_text, cm_text = english_text.strip(), cm_text.strip()\n",
    "        english_data.append(english_text)\n",
    "        cm_data.append(cm_text)\n",
    "\n",
    "\n",
    "hindi_data = await translate_from_english_to_hindi(english_data)\n",
    "\n",
    "\n",
    "lines = ['\\t'.join([en_sent, hi_sent, cm_sent]) for en_sent, hi_sent, cm_sent in zip(english_data, hindi_data, cm_data)]\n",
    "\n",
    "with open('datasets/calcs_english-hinglish/dev_hi_og.txt', 'w') as f:\n",
    "    f.write('\\n'.join(lines))\n",
    "\n",
    "\n",
    "# english_data, cm_data = [], []\n",
    "\n",
    "# with open('datasets/calcs_english-hinglish/test.txt', 'r') as f:\n",
    "#     lines = f.readlines()\n",
    "#     for line in lines:\n",
    "#         english_text, cm_text = line.split('\\t')\n",
    "#         english_text, cm_text = english_text.strip(), cm_text.strip()\n",
    "#         english_data.append(english_text)\n",
    "#         cm_data.append(cm_text)\n",
    "\n",
    "\n",
    "# hindi_data = await translate_from_english_to_hindi(english_data)\n",
    "\n",
    "# lines = ['\\t'.join([en_sent, hi_sent, cm_sent]) for en_sent, hi_sent, cm_sent in zip(english_data, hindi_data, cm_data)]\n",
    "\n",
    "# with open('datasets/calcs_english-hinglish/test_hi_og.txt', 'w') as f:\n",
    "#     f.write('\\n'.join(lines))"
   ]
  },
  {
   "cell_type": "code",
   "execution_count": 14,
   "metadata": {},
   "outputs": [
    {
     "name": "stdout",
     "output_type": "stream",
     "text": [
      "Translated(src=ko, dest=en, text=hello., pronunciation=None, extra_data=\"{'translat...\")\n"
     ]
    },
    {
     "name": "stderr",
     "output_type": "stream",
     "text": [
      "/tmp/slurm-mahardika.ihsani-61924/ipykernel_809399/522553238.py:4: RuntimeWarning: coroutine 'Translator.translate' was never awaited\n",
      "  res = await translator.translate('안녕하세요.')\n",
      "RuntimeWarning: Enable tracemalloc to get the object allocation traceback\n"
     ]
    }
   ],
   "source": [
    "from googletrans import Translator\n",
    "import asyncio\n",
    "async with Translator() as translator:\n",
    "    res = await translator.translate('안녕하세요.')\n",
    "    print(res)"
   ]
  },
  {
   "cell_type": "code",
   "execution_count": 15,
   "metadata": {},
   "outputs": [
    {
     "data": {
      "text/plain": [
       "'hello.'"
      ]
     },
     "execution_count": 15,
     "metadata": {},
     "output_type": "execute_result"
    }
   ],
   "source": [
    "res.text"
   ]
  }
 ],
 "metadata": {
  "kernelspec": {
   "display_name": "cmix_neurons",
   "language": "python",
   "name": "python3"
  },
  "language_info": {
   "codemirror_mode": {
    "name": "ipython",
    "version": 3
   },
   "file_extension": ".py",
   "mimetype": "text/x-python",
   "name": "python",
   "nbconvert_exporter": "python",
   "pygments_lexer": "ipython3",
   "version": "3.10.15"
  }
 },
 "nbformat": 4,
 "nbformat_minor": 2
}
